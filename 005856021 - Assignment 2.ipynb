{
 "cells": [
  {
   "cell_type": "markdown",
   "id": "fdff54d8-860f-4ac1-9be4-8bea98a29ebd",
   "metadata": {},
   "source": [
    "# 005856021 (UID) - Assignment Week 2 - Rick Kessels"
   ]
  },
  {
   "cell_type": "markdown",
   "id": "4114eacc-e887-4e9b-8915-ad3ecc8d8916",
   "metadata": {},
   "source": [
    "Self-assessment: I think the exercises went pretty well. I was struggling a little bit with the `range` in the last exercise, as I know the convention is to start the range at `0`, whereas I wanted to make it straight-forward and start it at `1`, since it would be easier to explain why I coded the way I did. My question here is: Can I assume in my notebooks that people know that the convention is to start at `0`, e.g. with the variable `lines`?"
   ]
  },
  {
   "cell_type": "markdown",
   "id": "8645d3e8-cdc5-48ef-8ebb-010b4acad4a1",
   "metadata": {
    "tags": []
   },
   "source": [
    "# 3.10 7% Investment Return"
   ]
  },
  {
   "cell_type": "markdown",
   "id": "bd6c25a7-9e2e-4589-a10b-ef09c92e0e48",
   "metadata": {},
   "source": [
    "The formula given in the exercise is as follows: $ a = p(1 + r)^{n} $, with $p$ being the original amount invested, $r$ being the annual rate of return, $n$ being the number of years, and $a$ being the amount on the deposit at the end of the $n$th year. "
   ]
  },
  {
   "cell_type": "markdown",
   "id": "48a7cfbc-b9b9-465a-aa0f-e1450fe08940",
   "metadata": {},
   "source": [
    "The value for $p$ and $r$ is set in this exercise, and hence, we can allocate the set values to them first. Note that we rename $p$ to `principal` and $r$ to `interest_rate` for clarity."
   ]
  },
  {
   "cell_type": "code",
   "execution_count": 1,
   "id": "68d5881b-860c-45ee-a16a-4fa96e7de8a5",
   "metadata": {},
   "outputs": [],
   "source": [
    "principal = 1000\n",
    "interest_rate = 0.07"
   ]
  },
  {
   "cell_type": "markdown",
   "id": "f6546bb3-cc8e-4d24-b98c-b3174a681849",
   "metadata": {},
   "source": [
    "Now, we will use a `for` loop over the number of years $n$, which we rename as `year`. The variable `money_in_account` represents the variable $a$ in the original formula and represents the total amount of money in the account after $n$ years. The `for` loop will calculate the `money_in_account` for each `year` between 1 and 30 (inclusive), and will print the balance."
   ]
  },
  {
   "cell_type": "code",
   "execution_count": 2,
   "id": "fe75f23e-f4a2-426c-8146-e461fbaecd5d",
   "metadata": {},
   "outputs": [
    {
     "name": "stdout",
     "output_type": "stream",
     "text": [
      " 1   1070.00\n",
      " 2   1144.90\n",
      " 3   1225.04\n",
      " 4   1310.80\n",
      " 5   1402.55\n",
      " 6   1500.73\n",
      " 7   1605.78\n",
      " 8   1718.19\n",
      " 9   1838.46\n",
      "10   1967.15\n",
      "11   2104.85\n",
      "12   2252.19\n",
      "13   2409.85\n",
      "14   2578.53\n",
      "15   2759.03\n",
      "16   2952.16\n",
      "17   3158.82\n",
      "18   3379.93\n",
      "19   3616.53\n",
      "20   3869.68\n",
      "21   4140.56\n",
      "22   4430.40\n",
      "23   4740.53\n",
      "24   5072.37\n",
      "25   5427.43\n",
      "26   5807.35\n",
      "27   6213.87\n",
      "28   6648.84\n",
      "29   7114.26\n",
      "30   7612.26\n"
     ]
    }
   ],
   "source": [
    "for year in range(1, 31):\n",
    "    money_in_account = principal * (1 + interest_rate) ** year\n",
    "    print(f'{year:>2}{money_in_account:>10.2f}')"
   ]
  },
  {
   "cell_type": "markdown",
   "id": "96f1f252-5c48-4a21-8e2b-c31ac0cff191",
   "metadata": {},
   "source": [
    "Alternatively, we could use a while loop. We first allocate the value `30` to the variable `years`.  We also introduce a variable `counter` and allocate the value `0` to this variable."
   ]
  },
  {
   "cell_type": "code",
   "execution_count": 3,
   "id": "f4ba4a94-b236-46f0-8897-5281b0045ff3",
   "metadata": {},
   "outputs": [],
   "source": [
    "years = 30\n",
    "counter = 0"
   ]
  },
  {
   "cell_type": "markdown",
   "id": "dbf4d0e7-49a6-4684-b41c-92ee19884f18",
   "metadata": {},
   "source": [
    "In the very beginning, the total `money_in_acccount` is equal to the `principal` of `1000` dollars, so we allocate this value to the variable `money_in_account`."
   ]
  },
  {
   "cell_type": "code",
   "execution_count": 4,
   "id": "4c2ba641-60e8-41ef-a77f-79b69172a618",
   "metadata": {},
   "outputs": [],
   "source": [
    "money_in_account = principal"
   ]
  },
  {
   "cell_type": "markdown",
   "id": "c8162be1-2596-4a4d-8fa4-306b2f3c5a3b",
   "metadata": {},
   "source": [
    "Now, we introduce a `while` loop that iterates over the number of years, up until the `counter `(which keeps track of the years) reaches the value of `30` as allocated to the variable `years`."
   ]
  },
  {
   "cell_type": "markdown",
   "id": "ff2d0899-db90-4d5f-9b7c-c9436f710082",
   "metadata": {},
   "source": [
    "In each iteration, the current value of `money_in_account` will be multiplied by `(1 + interest_rate)`, thereby calculating the amount of money in the bank account after that year. Compound interest is calculated over multiple years, and therefore, we can print out the current balance `money_in_account` after each iteration (so after each year). We increase the value of `counter` by `1` in each iteration as well."
   ]
  },
  {
   "cell_type": "code",
   "execution_count": 5,
   "id": "bd782f8d-5b72-43f8-8e73-f38df3372f92",
   "metadata": {},
   "outputs": [
    {
     "name": "stdout",
     "output_type": "stream",
     "text": [
      "Total money in account after  1 year(s): 1070.00\n",
      "Total money in account after  2 year(s): 1144.90\n",
      "Total money in account after  3 year(s): 1225.04\n",
      "Total money in account after  4 year(s): 1310.80\n",
      "Total money in account after  5 year(s): 1402.55\n",
      "Total money in account after  6 year(s): 1500.73\n",
      "Total money in account after  7 year(s): 1605.78\n",
      "Total money in account after  8 year(s): 1718.19\n",
      "Total money in account after  9 year(s): 1838.46\n",
      "Total money in account after 10 year(s): 1967.15\n",
      "Total money in account after 11 year(s): 2104.85\n",
      "Total money in account after 12 year(s): 2252.19\n",
      "Total money in account after 13 year(s): 2409.85\n",
      "Total money in account after 14 year(s): 2578.53\n",
      "Total money in account after 15 year(s): 2759.03\n",
      "Total money in account after 16 year(s): 2952.16\n",
      "Total money in account after 17 year(s): 3158.82\n",
      "Total money in account after 18 year(s): 3379.93\n",
      "Total money in account after 19 year(s): 3616.53\n",
      "Total money in account after 20 year(s): 3869.68\n",
      "Total money in account after 21 year(s): 4140.56\n",
      "Total money in account after 22 year(s): 4430.40\n",
      "Total money in account after 23 year(s): 4740.53\n",
      "Total money in account after 24 year(s): 5072.37\n",
      "Total money in account after 25 year(s): 5427.43\n",
      "Total money in account after 26 year(s): 5807.35\n",
      "Total money in account after 27 year(s): 6213.87\n",
      "Total money in account after 28 year(s): 6648.84\n",
      "Total money in account after 29 year(s): 7114.26\n",
      "Total money in account after 30 year(s): 7612.26\n"
     ]
    }
   ],
   "source": [
    "while counter < years:\n",
    "    money_in_account = money_in_account * (1 + interest_rate)\n",
    "    counter = counter + 1\n",
    "    print(f'Total money in account after {counter:>2} year(s): {money_in_account:.2f}')"
   ]
  },
  {
   "cell_type": "markdown",
   "id": "c82316c0-7a45-48d0-8ce8-72d17286af62",
   "metadata": {},
   "source": [
    "# 3.13 Data Science: Factorials"
   ]
  },
  {
   "cell_type": "markdown",
   "id": "8171d229-9480-4171-83a7-74fb84dcdc2e",
   "metadata": {},
   "source": [
    "In this exercise, we are asked to write a script that inputs a nonnegative integer and computes and displays its factorial."
   ]
  },
  {
   "cell_type": "markdown",
   "id": "c3396bdb-1e53-4c10-9f0b-5e76f539148b",
   "metadata": {},
   "source": [
    "Let us first ask the user for an integer input. We convert the input to the type `int` and store the inputted value into the variable `integer_factorial`."
   ]
  },
  {
   "cell_type": "code",
   "execution_count": 6,
   "id": "86aaf897-a680-4a31-b27e-8c4dc2a9b472",
   "metadata": {},
   "outputs": [
    {
     "name": "stdin",
     "output_type": "stream",
     "text": [
      "Enter an integer:  10\n"
     ]
    }
   ],
   "source": [
    "integer_factorial = int(input('Enter an integer: '))"
   ]
  },
  {
   "cell_type": "markdown",
   "id": "86e5224d-1f20-45af-ae17-e9bc2211e90f",
   "metadata": {},
   "source": [
    "The factorial of a non-negative integer is at least equal to 1. For example, the factorial of 0 (0!) is equal to 1. The factorial of 1 (1!) is equal to 1 as well. The factorial of any integer larger than 1 is larger than 1. Hence, we initialize the value of the variable `factorial` to be 1, so we can start multiplying this variable with other integers."
   ]
  },
  {
   "cell_type": "code",
   "execution_count": 7,
   "id": "1ab94b56-0342-4789-86a0-0194fb9f9401",
   "metadata": {
    "tags": []
   },
   "outputs": [],
   "source": [
    "factorial = 1"
   ]
  },
  {
   "cell_type": "markdown",
   "id": "57a51f13-8de8-4ccc-a0c7-d99a70e0199c",
   "metadata": {},
   "source": [
    "To calculate the factorial, we use a for loop that counts down to 1. It ranges from `integer_factorial` (representing the integer we have to calculate the factorial of) to 1, in decreasing steps of size 1. We multiply the current value of `factorial` with the current value of `integer`, thereby replicating the calculation of a factorial (e.g. $5! = 5 * 4 * 3 * 2 * 1$)"
   ]
  },
  {
   "cell_type": "code",
   "execution_count": 8,
   "id": "891581c8-ea54-4f52-a3cc-b1539c1af3ee",
   "metadata": {},
   "outputs": [],
   "source": [
    "for integer in range(integer_factorial, 0, -1):\n",
    "    factorial *= integer"
   ]
  },
  {
   "cell_type": "markdown",
   "id": "9fe59768-e9b7-4a77-a7ff-54f08fe54103",
   "metadata": {},
   "source": [
    "Let us examine the value of `factorial` of the inputted value (10)."
   ]
  },
  {
   "cell_type": "code",
   "execution_count": 9,
   "id": "e18eeb6c-9bad-4814-b85a-8659965a08f1",
   "metadata": {},
   "outputs": [
    {
     "data": {
      "text/plain": [
       "3628800"
      ]
     },
     "execution_count": 9,
     "metadata": {},
     "output_type": "execute_result"
    }
   ],
   "source": [
    "factorial"
   ]
  },
  {
   "cell_type": "markdown",
   "id": "e9a2ba5f-5451-4761-995e-565a414f813c",
   "metadata": {},
   "source": [
    "Hence, $10! = 3628800$"
   ]
  },
  {
   "cell_type": "markdown",
   "id": "063db188-68a9-4c73-b3d0-1bf379079a81",
   "metadata": {},
   "source": [
    "Now, we do the same thing for the factorials of 20 and 30."
   ]
  },
  {
   "cell_type": "code",
   "execution_count": 10,
   "id": "80c80de8-74a0-457d-870f-c8ca461dc413",
   "metadata": {},
   "outputs": [
    {
     "name": "stdin",
     "output_type": "stream",
     "text": [
      "Enter an integer:  20\n"
     ]
    }
   ],
   "source": [
    "integer_factorial = int(input('Enter an integer: '))"
   ]
  },
  {
   "cell_type": "markdown",
   "id": "c9e9d02d-b857-4d3a-b16f-877a84b27bbc",
   "metadata": {},
   "source": [
    "We reset the value of the variable `factorial` to 1."
   ]
  },
  {
   "cell_type": "code",
   "execution_count": 11,
   "id": "bcb5e264-e38b-48c3-9a79-37bec816fc7d",
   "metadata": {},
   "outputs": [],
   "source": [
    "factorial = 1"
   ]
  },
  {
   "cell_type": "markdown",
   "id": "32a27549-79d5-4c22-bbf5-11e1f7845864",
   "metadata": {},
   "source": [
    "Now, we use the for loop again to calculate the factorial of 20."
   ]
  },
  {
   "cell_type": "code",
   "execution_count": 12,
   "id": "058f6483-0f96-47e1-99e1-360bd0020240",
   "metadata": {},
   "outputs": [],
   "source": [
    "for integer in range(integer_factorial, 0, -1):\n",
    "    factorial *= integer"
   ]
  },
  {
   "cell_type": "markdown",
   "id": "10d5b4d1-10ec-48bc-a407-a9624007b919",
   "metadata": {},
   "source": [
    "Again, let us examine the value of `factorial` of the inputted value (20)."
   ]
  },
  {
   "cell_type": "code",
   "execution_count": 13,
   "id": "9d51e30c-20f8-48b9-9018-6eddead514ce",
   "metadata": {},
   "outputs": [
    {
     "data": {
      "text/plain": [
       "2432902008176640000"
      ]
     },
     "execution_count": 13,
     "metadata": {},
     "output_type": "execute_result"
    }
   ],
   "source": [
    "factorial"
   ]
  },
  {
   "cell_type": "markdown",
   "id": "3ae9003a-cd87-44d4-99fb-0f59200c35f9",
   "metadata": {},
   "source": [
    "Hence, $20! = 2432902008176640000$"
   ]
  },
  {
   "cell_type": "markdown",
   "id": "26342132-3438-4654-bd0b-4b45af8d9a2c",
   "metadata": {},
   "source": [
    "Finally, let's examine $30!$."
   ]
  },
  {
   "cell_type": "code",
   "execution_count": 14,
   "id": "9795bf71-e921-4764-ab1c-24c2cabf39a3",
   "metadata": {},
   "outputs": [
    {
     "name": "stdin",
     "output_type": "stream",
     "text": [
      "Enter an integer:  30\n"
     ]
    }
   ],
   "source": [
    "integer_factorial = int(input('Enter an integer: '))"
   ]
  },
  {
   "cell_type": "markdown",
   "id": "06b51540-ee58-4575-866d-d7887f35032e",
   "metadata": {},
   "source": [
    "Again, we reset the value of `factorial` back to 1."
   ]
  },
  {
   "cell_type": "code",
   "execution_count": 15,
   "id": "9717b205-0126-410d-91dd-e56fa4d0361f",
   "metadata": {},
   "outputs": [],
   "source": [
    "factorial = 1"
   ]
  },
  {
   "cell_type": "markdown",
   "id": "5959a2fa-e38a-4fd7-adf7-a48458827186",
   "metadata": {},
   "source": [
    "Now, we use the for loop again to calculate the factorial of 30."
   ]
  },
  {
   "cell_type": "code",
   "execution_count": 16,
   "id": "e1bb1d8d-ceeb-4fc3-a77d-3d617e45b25e",
   "metadata": {},
   "outputs": [],
   "source": [
    "for integer in range(integer_factorial, 0, -1):\n",
    "    factorial *= integer"
   ]
  },
  {
   "cell_type": "markdown",
   "id": "a017e640-60dd-4c32-9a34-de0c192aa24c",
   "metadata": {},
   "source": [
    "Finally, let us examine the value of `factorial` of the inputted value (30)."
   ]
  },
  {
   "cell_type": "code",
   "execution_count": 17,
   "id": "bd10e17e-0e3e-45fe-9bab-aecf35cf86c9",
   "metadata": {},
   "outputs": [
    {
     "data": {
      "text/plain": [
       "265252859812191058636308480000000"
      ]
     },
     "execution_count": 17,
     "metadata": {},
     "output_type": "execute_result"
    }
   ],
   "source": [
    "factorial"
   ]
  },
  {
   "cell_type": "markdown",
   "id": "e457cc73-ab6c-4637-8c99-b643d041e301",
   "metadata": {},
   "source": [
    "Hence, $30! = 265252859812191058636308480000000$"
   ]
  },
  {
   "cell_type": "markdown",
   "id": "d4109168-f36e-45c7-9773-32d7383f55b4",
   "metadata": {
    "tags": []
   },
   "source": [
    "# 3.31 Intro to Data Science: Categorical Data"
   ]
  },
  {
   "cell_type": "markdown",
   "id": "312a706c-4dd9-4abf-8261-1394b566536f",
   "metadata": {},
   "source": [
    "Let us consider each of the three measures of central tendency individually.\n",
    "\n",
    "The mean represents the average numeric value of the numbers. Since categorical values cannot be transformed into a numeric value, we cannot take the mean of categorical values.\n",
    "\n",
    "The median represents the middle value of the numbers (when sorted). Some categorical values can be sorted (e.g. alphabetically), but the median would not have much value. For example, what would it mean if the median value is \"Chihuahua\" in the dataset consisting of \"Boxer\", \"Chihuahua\", \"Golden Retriever\"? I personally believe that this kind of median does not contain any added value about the data set.\n",
    "\n",
    "The mode represents the most frequent value of the numbers. The frequency of categorical values can be examined (e.g. the breed \"Labrador\" occurs the most within a given data set), and would actually be useful (e.g. the breed \"Labrador\" is the most popular breed in these data). Therefore, the mode is the only measure of central tendency considered in this exercise that is actually applicable to categorical data."
   ]
  },
  {
   "cell_type": "markdown",
   "id": "ec41ec7e-af36-4a3c-84fa-234656d569fe",
   "metadata": {},
   "source": [
    "# 3.17 Nested Loops"
   ]
  },
  {
   "cell_type": "markdown",
   "id": "9dfe8893-a95a-4199-9b44-dcee7940db11",
   "metadata": {},
   "source": [
    "In this exercise, we are asked to recreate some star-patterns by using nested loops. "
   ]
  },
  {
   "cell_type": "markdown",
   "id": "9bf9143c-9116-4338-819c-ac1518f7c565",
   "metadata": {},
   "source": [
    "For each of the exercises, I will demonstrate two ways of recreating the pattern. One solution will contain a `for` and a `while` loop, whereas the other contains two `for` loops."
   ]
  },
  {
   "cell_type": "markdown",
   "id": "234751e9-17ff-428d-90d3-01e80df3d9a3",
   "metadata": {},
   "source": [
    "For the first exercise, I created a `for` loop that ranges from 1 until 10. This `for` loop keeps track of the lines, and each iteration within this loop will end with a new line being created (`print('\\n')`). In each iteration, I introduce the `star_count` variable, which keeps track of the number of stars in a certain line. Namely, the number of stars need to match the line-number in this specific pattern. The `while` loop will take of the number of stars in each line (e.g. in line 4, it will keep printing stars and adding to the `star_count` up until the point the `star_count` has value 4, and thus four stars have been printed). As soon as a certain line (so a certain iteration in the `for` loop) is done, the variable `star_count` is reset to 0, and the process repeats itself. This happens until 10 lines, with each line containing an increasing number of stars, will be printed."
   ]
  },
  {
   "cell_type": "code",
   "execution_count": 18,
   "id": "7be98da5-2719-4993-aa74-96b4c2ff602f",
   "metadata": {},
   "outputs": [
    {
     "name": "stdout",
     "output_type": "stream",
     "text": [
      "*\n",
      "\n",
      "**\n",
      "\n",
      "***\n",
      "\n",
      "****\n",
      "\n",
      "*****\n",
      "\n",
      "******\n",
      "\n",
      "*******\n",
      "\n",
      "********\n",
      "\n",
      "*********\n",
      "\n",
      "**********\n",
      "\n"
     ]
    }
   ],
   "source": [
    "for line in range(1, 11):\n",
    "    star_count = 0\n",
    "    while (star_count < line):\n",
    "        print('*', end='')\n",
    "        star_count += 1\n",
    "    print('\\n')"
   ]
  },
  {
   "cell_type": "markdown",
   "id": "14359eec-69a8-4a35-a8f9-acad407ac15b",
   "metadata": {},
   "source": [
    "We could also use two `for` loops for this exercise. The first `for` loop iterates over the lines again, whereas the second `for` loop manages the number of stars in a certain line. The value of `line` will help the second `for` loop with that, as e.g. in the third line, the `for` loop condition is the `range(1, 4)`, thereby printing 3 stars."
   ]
  },
  {
   "cell_type": "code",
   "execution_count": 19,
   "id": "d17088f0-91c3-4beb-b43f-c5d30d6a7b44",
   "metadata": {},
   "outputs": [
    {
     "name": "stdout",
     "output_type": "stream",
     "text": [
      "*\n",
      "\n",
      "**\n",
      "\n",
      "***\n",
      "\n",
      "****\n",
      "\n",
      "*****\n",
      "\n",
      "******\n",
      "\n",
      "*******\n",
      "\n",
      "********\n",
      "\n",
      "*********\n",
      "\n",
      "**********\n",
      "\n"
     ]
    }
   ],
   "source": [
    "for line in range(1, 11):\n",
    "    for star_count in range(1, line + 1):\n",
    "        print('*', end='')\n",
    "    print('\\n')"
   ]
  },
  {
   "cell_type": "markdown",
   "id": "0f798374-c470-4e0f-a463-6b386fbdaa73",
   "metadata": {},
   "source": [
    "For the second pattern to be recreated, we can basically use the same code as for the first pattern. However, instead of intializing the value of `star_count` to be 0, we set it to be 11. We also adjust the condition in the `while` loop, and make the `star_count` count down instead of up. All together, this creates the number of stars in a certain `line` to be equal to `11 - line`, e.g. in the first line (`line = 1`), there are 10 stars, in the second line 9 stars, etc."
   ]
  },
  {
   "cell_type": "code",
   "execution_count": 20,
   "id": "8202a39b-aca9-4c40-a493-fe51a2dc1feb",
   "metadata": {},
   "outputs": [
    {
     "name": "stdout",
     "output_type": "stream",
     "text": [
      "**********\n",
      "\n",
      "*********\n",
      "\n",
      "********\n",
      "\n",
      "*******\n",
      "\n",
      "******\n",
      "\n",
      "*****\n",
      "\n",
      "****\n",
      "\n",
      "***\n",
      "\n",
      "**\n",
      "\n",
      "*\n",
      "\n"
     ]
    }
   ],
   "source": [
    "for line in range(1, 11):\n",
    "    star_count = 11\n",
    "    while (star_count > line):\n",
    "        print('*', end='')\n",
    "        star_count -= 1\n",
    "    print('\\n')"
   ]
  },
  {
   "cell_type": "markdown",
   "id": "58ab1285-b4dd-41f3-8ffd-64927e9ad7f2",
   "metadata": {},
   "source": [
    "The double `for` loop can be created by creating a second `for` loop that counts down based on the value of `line`. This means that in the first `line`, there will be 10 stars, whereas in the last line, there will only be 1 star."
   ]
  },
  {
   "cell_type": "code",
   "execution_count": 21,
   "id": "aa2cbe85-9aed-4c81-adcb-d877645859f4",
   "metadata": {},
   "outputs": [
    {
     "name": "stdout",
     "output_type": "stream",
     "text": [
      "**********\n",
      "\n",
      "*********\n",
      "\n",
      "********\n",
      "\n",
      "*******\n",
      "\n",
      "******\n",
      "\n",
      "*****\n",
      "\n",
      "****\n",
      "\n",
      "***\n",
      "\n",
      "**\n",
      "\n",
      "*\n",
      "\n"
     ]
    }
   ],
   "source": [
    "for line in range(1, 11):\n",
    "    for star_count in range(11 - line, 0, -1):\n",
    "        print('*', end='')\n",
    "    print('\\n')"
   ]
  },
  {
   "cell_type": "markdown",
   "id": "3da78f8a-000b-4c3b-bbef-7d9db0e30cb7",
   "metadata": {},
   "source": [
    "In the third pattern, we want to right-adjust the stars in a certain line. This means we should start each line with a certain number of spaces. This is captured by the statement `print(' ' * line,end='')`, which multiplies the space-string by the line number. Note that in the first line, we need no spaces, and therefore, we subtract 1 from the value of `line`. We could prevent this by letting `line` range over 0 until 10, but for convenience, we choose the value of `line` to be the same as the line-number. Finally, we print the right number of stars in each line by initializing `star_count` to be equal to 11 and letting the value of `star_count` decrease up until we have the right amount of stars in each line (e.g. in the first `line`, we get `11 - 1` stars)."
   ]
  },
  {
   "cell_type": "code",
   "execution_count": 22,
   "id": "3ca95b9b-8b64-4d04-ab38-d20eecf23654",
   "metadata": {
    "tags": []
   },
   "outputs": [
    {
     "name": "stdout",
     "output_type": "stream",
     "text": [
      "**********\n",
      "\n",
      " *********\n",
      "\n",
      "  ********\n",
      "\n",
      "   *******\n",
      "\n",
      "    ******\n",
      "\n",
      "     *****\n",
      "\n",
      "      ****\n",
      "\n",
      "       ***\n",
      "\n",
      "        **\n",
      "\n",
      "         *\n",
      "\n"
     ]
    }
   ],
   "source": [
    "for line in range(1, 11):\n",
    "    star_count = 11\n",
    "    print(' ' * (line - 1), end='')\n",
    "    while (star_count > line):\n",
    "        print('*', end='')\n",
    "        star_count -= 1\n",
    "    print('\\n')"
   ]
  },
  {
   "cell_type": "markdown",
   "id": "96c25ae7-c322-4b2b-86c6-cbc6840c3ada",
   "metadata": {},
   "source": [
    "Again, this would be the version with two `for` loops. We let the second `for` loop depend on the current value of `line` with a range that is decreasing. For example, in the first `line`, the condition is equal to `for count_stars in range(10, 0, -1)`."
   ]
  },
  {
   "cell_type": "code",
   "execution_count": 23,
   "id": "32e4411d-4c77-41a2-98d1-644e593f6d4c",
   "metadata": {},
   "outputs": [
    {
     "name": "stdout",
     "output_type": "stream",
     "text": [
      " **********\n",
      "\n",
      "  *********\n",
      "\n",
      "   ********\n",
      "\n",
      "    *******\n",
      "\n",
      "     ******\n",
      "\n",
      "      *****\n",
      "\n",
      "       ****\n",
      "\n",
      "        ***\n",
      "\n",
      "         **\n",
      "\n",
      "          *\n",
      "\n"
     ]
    }
   ],
   "source": [
    "for line in range(1, 11):\n",
    "    print(' ' * line, end='')\n",
    "    for star_count in range(11 - line, 0, -1):\n",
    "        print('*', end='')\n",
    "        star_count -= 1\n",
    "    print('\\n')"
   ]
  },
  {
   "cell_type": "markdown",
   "id": "bf48b49f-6041-41a7-8d85-0636a9b640f5",
   "metadata": {},
   "source": [
    "The final pattern to be recreated can be made by means of adjusting our previous code. We now make the `star_count` start at 0, and inverse the number of spaces in each line as compared to the previous pattern. Finally, we adjust the condition in the `while` loop so that it prints an increasing number of stars in each line instead of a decreasing number of stars.  "
   ]
  },
  {
   "cell_type": "code",
   "execution_count": 24,
   "id": "4f20b74d-9838-438c-b872-1777708d8684",
   "metadata": {},
   "outputs": [
    {
     "name": "stdout",
     "output_type": "stream",
     "text": [
      "          *\n",
      "\n",
      "         **\n",
      "\n",
      "        ***\n",
      "\n",
      "       ****\n",
      "\n",
      "      *****\n",
      "\n",
      "     ******\n",
      "\n",
      "    *******\n",
      "\n",
      "   ********\n",
      "\n",
      "  *********\n",
      "\n",
      " **********\n",
      "\n"
     ]
    }
   ],
   "source": [
    "for line in range(1, 11):\n",
    "    star_count = 0\n",
    "    print(' ' * (11 - line), end='')\n",
    "    while (star_count < line):\n",
    "        print('*', end='')\n",
    "        star_count += 1\n",
    "    print('\\n')"
   ]
  },
  {
   "cell_type": "markdown",
   "id": "a38d6f6a-242a-452d-af73-4467f2734679",
   "metadata": {},
   "source": [
    "This is the double `for` loop version of previous snippet. We make the second `for` loop condition dependent on the current value of `line`, thereby being able to print the correct number of stars."
   ]
  },
  {
   "cell_type": "code",
   "execution_count": 25,
   "id": "d42efefb-d7ac-4a2d-8ab0-c4dd0100a93d",
   "metadata": {},
   "outputs": [
    {
     "name": "stdout",
     "output_type": "stream",
     "text": [
      "          *\n",
      "\n",
      "         **\n",
      "\n",
      "        ***\n",
      "\n",
      "       ****\n",
      "\n",
      "      *****\n",
      "\n",
      "     ******\n",
      "\n",
      "    *******\n",
      "\n",
      "   ********\n",
      "\n",
      "  *********\n",
      "\n",
      " **********\n",
      "\n"
     ]
    }
   ],
   "source": [
    "for line in range(1, 11):\n",
    "    print(' ' * (11 - line), end='')\n",
    "    for star_count in range(1, line + 1):\n",
    "        print('*', end='')\n",
    "        star_count += 1\n",
    "    print('\\n')"
   ]
  },
  {
   "cell_type": "markdown",
   "id": "f4cd556d-26a6-4518-aee1-c4663ee77882",
   "metadata": {},
   "source": [
    "# 3.26 Research: Anscombe's Quartet"
   ]
  },
  {
   "cell_type": "markdown",
   "id": "1c2436e4-21da-408e-bde6-c18186386df2",
   "metadata": {},
   "source": [
    "Anscombe's Quartet comprises four data sets with each 11 (x, y) data points. These data sets share (nearly) the same descriptive statistics, but upon graphical inspection look nothing alike."
   ]
  },
  {
   "cell_type": "markdown",
   "id": "090cb663-d172-4f7c-868d-f7f73eb0de87",
   "metadata": {},
   "source": [
    "The data sets share following descriptive statistics:\n",
    " - Mean of x: 9\n",
    " - Sample variance of x: 11\n",
    " - Mean of y: 7.50\n",
    " - Sample variance of y: 4.125\n",
    " - Correlation between x and y: 0.816\n",
    " - Linear regression line: y = 3.00 + 0.500x\n",
    " - Coefficient of determination: 0.67"
   ]
  }
 ],
 "metadata": {
  "kernelspec": {
   "display_name": "Python 3 (ipykernel)",
   "language": "python",
   "name": "python3"
  },
  "language_info": {
   "codemirror_mode": {
    "name": "ipython",
    "version": 3
   },
   "file_extension": ".py",
   "mimetype": "text/x-python",
   "name": "python",
   "nbconvert_exporter": "python",
   "pygments_lexer": "ipython3",
   "version": "3.8.11"
  }
 },
 "nbformat": 4,
 "nbformat_minor": 5
}
