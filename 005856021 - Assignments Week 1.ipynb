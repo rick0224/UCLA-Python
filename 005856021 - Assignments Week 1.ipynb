{
 "cells": [
  {
   "cell_type": "markdown",
   "id": "56618b5d-a597-4e97-98f3-ded54b0f6fef",
   "metadata": {},
   "source": [
    "### 005856021 (UID)\n",
    "### Assignment Week 1 \n",
    "### Rick Kessels"
   ]
  },
  {
   "cell_type": "markdown",
   "id": "8f436e8d-de19-4d0a-b901-3ab2c5b991fb",
   "metadata": {},
   "source": [
    "Self assessment: I think this week's assignments went well. I managed to do all of them, including the optional exercise 2.11."
   ]
  },
  {
   "cell_type": "code",
   "execution_count": 1,
   "id": "a6ddeb52-2aab-466a-aebb-ee7ddd284bfa",
   "metadata": {},
   "outputs": [],
   "source": [
    "# 2.1 What Does This Code Do?"
   ]
  },
  {
   "cell_type": "markdown",
   "id": "59aa0d12-41a2-4559-9e1c-aab0ef0079c9",
   "metadata": {},
   "source": [
    "First, we allocate the values 2 and 3 to the variables x and y respectively."
   ]
  },
  {
   "cell_type": "code",
   "execution_count": 2,
   "id": "82cfec99-e27a-4313-a52f-7135994430e4",
   "metadata": {},
   "outputs": [],
   "source": [
    "x = 2\n",
    "y = 3"
   ]
  },
  {
   "cell_type": "markdown",
   "id": "75715418-5bf5-4be0-aab6-ceae927d272e",
   "metadata": {},
   "source": [
    "a. The first statement concatenates the string 'x =' with the value allocated to the variable x. Hence, I expect the output to be a string 'x = 2', without the quotation marks."
   ]
  },
  {
   "cell_type": "code",
   "execution_count": 3,
   "id": "bb3ac895-d058-48b6-b490-28a15eca5b6a",
   "metadata": {},
   "outputs": [
    {
     "name": "stdout",
     "output_type": "stream",
     "text": [
      "x = 2\n"
     ]
    }
   ],
   "source": [
    "print('x =', x)"
   ]
  },
  {
   "cell_type": "markdown",
   "id": "506bb189-955b-49cc-ab7d-3a0a738271f5",
   "metadata": {},
   "source": [
    "b. The second statement concatenates the string 'Value of' with the value allocated to the variable x, a string '+\", another occurrence of the value allocated to the variable x, the string 'is' and then a summation of the two values. Hence, I expect the output to be a string 'Value of 2 + 2 is 4', without the quotation marks."
   ]
  },
  {
   "cell_type": "code",
   "execution_count": 4,
   "id": "f21df11b-2a47-440c-b073-58520fbc240d",
   "metadata": {},
   "outputs": [
    {
     "name": "stdout",
     "output_type": "stream",
     "text": [
      "Value of 2 + 2 is 4\n"
     ]
    }
   ],
   "source": [
    "print('Value of', x, '+', x, 'is', (x + x))"
   ]
  },
  {
   "cell_type": "markdown",
   "id": "cc5f5d28-a2e6-460d-b184-1a028c6f9b4d",
   "metadata": {},
   "source": [
    "c. The third statement will print the string 'x =' without the quotation marks. It will not print the value of x, since x is in quotation marks and will therefore be regarded to be a string."
   ]
  },
  {
   "cell_type": "code",
   "execution_count": 5,
   "id": "dd2d6f9a-7254-4c67-8b94-1c5a8ffb870c",
   "metadata": {},
   "outputs": [
    {
     "name": "stdout",
     "output_type": "stream",
     "text": [
      "x =\n"
     ]
    }
   ],
   "source": [
    "print('x =')"
   ]
  },
  {
   "cell_type": "markdown",
   "id": "1d3b3e79-4d9f-4219-bf0f-2746f6503c97",
   "metadata": {},
   "source": [
    "d. The fourth statement concatenates the summation of x and y with a string 'x =' and then the summation of y and x. Hence, I expect the output to be a string '5 x = 5', without the quotation marks."
   ]
  },
  {
   "cell_type": "code",
   "execution_count": 6,
   "id": "24b4cbc3-e240-414e-8282-1b201a044898",
   "metadata": {},
   "outputs": [
    {
     "name": "stdout",
     "output_type": "stream",
     "text": [
      "5 x = 5\n"
     ]
    }
   ],
   "source": [
    "print((x + y), 'x =', (y + x))"
   ]
  },
  {
   "cell_type": "code",
   "execution_count": 7,
   "id": "d91b1ceb-a67b-4d06-abd4-be0eb7248e09",
   "metadata": {},
   "outputs": [],
   "source": [
    "# 2.2 What's Wrong with This Code?"
   ]
  },
  {
   "cell_type": "markdown",
   "id": "8d1e6564-bcd1-409d-af83-7146d6ef6109",
   "metadata": {},
   "source": [
    "The code as presented in the exercise asks the user for an input. The default type for such input is a string, which means that the variable rating will be of type string. E.g. if the user inputs '1', the string '1' will be allocated to the variable rating. Let us try this out to cross-check:"
   ]
  },
  {
   "cell_type": "code",
   "execution_count": 8,
   "id": "8c8c06b0-6f02-4245-ac4b-f3eb4bf663c1",
   "metadata": {},
   "outputs": [
    {
     "name": "stdin",
     "output_type": "stream",
     "text": [
      "Enter an integer rating between 1 and 10:  5\n"
     ]
    }
   ],
   "source": [
    "rating_1 = input('Enter an integer rating between 1 and 10: ')"
   ]
  },
  {
   "cell_type": "code",
   "execution_count": 9,
   "id": "645dca9f-17c7-47ca-96ed-b450ee05b144",
   "metadata": {},
   "outputs": [
    {
     "data": {
      "text/plain": [
       "'5'"
      ]
     },
     "execution_count": 9,
     "metadata": {},
     "output_type": "execute_result"
    }
   ],
   "source": [
    "rating_1"
   ]
  },
  {
   "cell_type": "code",
   "execution_count": 10,
   "id": "19a0fc46-e3f5-4f01-bf95-39da10ddbbe8",
   "metadata": {},
   "outputs": [
    {
     "data": {
      "text/plain": [
       "str"
      ]
     },
     "execution_count": 10,
     "metadata": {},
     "output_type": "execute_result"
    }
   ],
   "source": [
    "type(rating_1)"
   ]
  },
  {
   "cell_type": "markdown",
   "id": "f7860d55-6d4e-4698-a5a7-628e2e543de6",
   "metadata": {},
   "source": [
    "Since the code should read an integer into the variable rating, we can transform the input string into an integer as follows:"
   ]
  },
  {
   "cell_type": "code",
   "execution_count": 11,
   "id": "1baf2e33-cbcd-4eae-ad45-b6bad19bdf48",
   "metadata": {},
   "outputs": [
    {
     "name": "stdin",
     "output_type": "stream",
     "text": [
      "Enter an integer rating between 1 and 10:  5\n"
     ]
    }
   ],
   "source": [
    "rating_2 = int(input('Enter an integer rating between 1 and 10: '))"
   ]
  },
  {
   "cell_type": "markdown",
   "id": "2e6e5198-7b28-4463-9dac-bf03a2ccdf9a",
   "metadata": {},
   "source": [
    "Now that we have asked the user for input, we can check the value allocated to rating_2 and the type of rating_2."
   ]
  },
  {
   "cell_type": "code",
   "execution_count": 12,
   "id": "d063f561-99db-4a87-84fb-7c1a5254255e",
   "metadata": {},
   "outputs": [
    {
     "data": {
      "text/plain": [
       "5"
      ]
     },
     "execution_count": 12,
     "metadata": {},
     "output_type": "execute_result"
    }
   ],
   "source": [
    "rating_2"
   ]
  },
  {
   "cell_type": "code",
   "execution_count": 13,
   "id": "5a21f4f3-54f5-45b7-b6e2-105c5bd2ec26",
   "metadata": {},
   "outputs": [
    {
     "data": {
      "text/plain": [
       "int"
      ]
     },
     "execution_count": 13,
     "metadata": {},
     "output_type": "execute_result"
    }
   ],
   "source": [
    "type(rating_2)"
   ]
  },
  {
   "cell_type": "markdown",
   "id": "c6baa985-9563-47c1-9b6f-44388a4f5fc2",
   "metadata": {},
   "source": [
    "We indeed see that the type of rating_2 is now an integer and the correct integer value has been allocated to the variable rating_2."
   ]
  },
  {
   "cell_type": "code",
   "execution_count": 14,
   "id": "c5859765-9448-49df-b7d1-7d81b5ab2e86",
   "metadata": {},
   "outputs": [],
   "source": [
    "# 2.10 Arithmetic, Smallest and Largest"
   ]
  },
  {
   "cell_type": "code",
   "execution_count": 15,
   "id": "b058b69f-6621-444a-b652-f2c865e674e1",
   "metadata": {},
   "outputs": [
    {
     "name": "stdin",
     "output_type": "stream",
     "text": [
      "Enter first integer 16\n",
      "Enter second integer 8\n",
      "Enter third integer 39\n"
     ]
    },
    {
     "name": "stdout",
     "output_type": "stream",
     "text": [
      "The sum of the three integers is:  63\n",
      "The average of the three integers is:  21.0\n",
      "The product of the three integers is:  4992\n",
      "The minimum of the three integers is:  8\n",
      "The maximum of the three integers is:  39\n"
     ]
    }
   ],
   "source": [
    "\"\"\"Find the sum, average, product, minimum and maximum of three integers.\"\"\"\n",
    "\n",
    "integer_1 = int(input('Enter first integer'))\n",
    "integer_2 = int(input('Enter second integer'))\n",
    "integer_3 = int(input('Enter third integer'))\n",
    "\n",
    "summation = integer_1 + integer_2 + integer_3\n",
    "print('The sum of the three integers is: ', summation)\n",
    "\n",
    "average = summation / 3\n",
    "print('The average of the three integers is: ', average) \n",
    "\n",
    "product = integer_1 * integer_2 * integer_3\n",
    "print('The product of the three integers is: ', product)\n",
    "\n",
    "minimum = integer_1\n",
    "if (integer_2 < minimum):\n",
    "    minimum = integer_2\n",
    "if (integer_3 < minimum):\n",
    "    minimum = integer_3\n",
    "print('The minimum of the three integers is: ', minimum)\n",
    "    \n",
    "maximum = integer_1\n",
    "if (integer_2 > maximum):\n",
    "    maximum = integer_2\n",
    "if (integer_3 > maximum):\n",
    "    maximum = integer_3\n",
    "print('The maximum of the three integers is: ', maximum)"
   ]
  },
  {
   "cell_type": "code",
   "execution_count": 16,
   "id": "1c2342ea-b819-4fcf-a4e7-e8e0ada3ed38",
   "metadata": {},
   "outputs": [],
   "source": [
    "# 2.12 7% Investment Return"
   ]
  },
  {
   "cell_type": "markdown",
   "id": "75890fb8-e033-4734-b13e-f53af518ff25",
   "metadata": {},
   "source": [
    "The formula given in the exercise is as follows: $ a = p(1 + r)^{n} $, with $p$ being the original amount invested, $r$ being the annual rate of return, $n$ being the number of years, and $a$ being the amount on the deposit at the end of the $n$th year. "
   ]
  },
  {
   "cell_type": "markdown",
   "id": "6051b855-409f-425d-b6ea-fa98149f08e4",
   "metadata": {},
   "source": [
    "The value for $p$ and $r$ is set in this exercise, and hence, we can allocate the set values to them first."
   ]
  },
  {
   "cell_type": "code",
   "execution_count": 17,
   "id": "4de67ed9-76ca-4add-a942-2deea9658017",
   "metadata": {
    "tags": []
   },
   "outputs": [],
   "source": [
    "p = 1000\n",
    "r = 0.07"
   ]
  },
  {
   "cell_type": "markdown",
   "id": "c7133f00-45be-4446-9d29-3a3583f694eb",
   "metadata": {},
   "source": [
    "Now, we will allocate the value 10 to the variable $n$ and use the formula to calculate the amount on deposit after 10 years a_10."
   ]
  },
  {
   "cell_type": "code",
   "execution_count": 18,
   "id": "5ec2abba-41bd-405b-9ade-92c75f9e8b7b",
   "metadata": {},
   "outputs": [],
   "source": [
    "n = 10\n",
    "a_10 = p * ((1 + r) ** n)"
   ]
  },
  {
   "cell_type": "code",
   "execution_count": 19,
   "id": "a8c7bffc-a7e7-43a2-95b8-88d2d3b50237",
   "metadata": {
    "tags": []
   },
   "outputs": [
    {
     "data": {
      "text/plain": [
       "1967.1513572895665"
      ]
     },
     "execution_count": 19,
     "metadata": {},
     "output_type": "execute_result"
    }
   ],
   "source": [
    "a_10"
   ]
  },
  {
   "cell_type": "markdown",
   "id": "2f2bef12-c22d-44c1-a5c5-f3358d74dbc8",
   "metadata": {},
   "source": [
    "Hence, the amount on deposit after 10 years is 1967.15 dollars."
   ]
  },
  {
   "cell_type": "markdown",
   "id": "2fdd78fa-8e91-4bb7-ac47-5845034bdb21",
   "metadata": {},
   "source": [
    "Next, we will change the value for our variable $n$ to 20, and calculate the amount on deposit after 20 years a_20."
   ]
  },
  {
   "cell_type": "code",
   "execution_count": 20,
   "id": "dead2351-fce4-4775-9142-dc290448cf98",
   "metadata": {},
   "outputs": [],
   "source": [
    "n = 20\n",
    "a_20 = p * ((1 + r) ** n)"
   ]
  },
  {
   "cell_type": "code",
   "execution_count": 21,
   "id": "c312c04d-e6d9-4da5-8b98-bc3f04a0d425",
   "metadata": {},
   "outputs": [
    {
     "data": {
      "text/plain": [
       "3869.6844624861833"
      ]
     },
     "execution_count": 21,
     "metadata": {},
     "output_type": "execute_result"
    }
   ],
   "source": [
    "a_20"
   ]
  },
  {
   "cell_type": "markdown",
   "id": "b38a301d-21db-4bfa-92d1-e0e43a2f7e4a",
   "metadata": {},
   "source": [
    "Hence, the amount on deposit after 20 years is 3869.68 dollars."
   ]
  },
  {
   "cell_type": "markdown",
   "id": "2dfdeb48-b642-42a8-815c-67d4d49792d4",
   "metadata": {},
   "source": [
    "Finally, we will change the value for our variable $n$ to 30, and calculate the amount on deposit after 30 years a_30."
   ]
  },
  {
   "cell_type": "code",
   "execution_count": 22,
   "id": "f7fa9b92-354c-4b20-9f59-02df9e35c1c2",
   "metadata": {},
   "outputs": [],
   "source": [
    "n = 30\n",
    "a_30 = p * ((1 + r) ** n)"
   ]
  },
  {
   "cell_type": "code",
   "execution_count": 23,
   "id": "01da4eb6-9a09-423d-99f1-ea3d16ac0ff2",
   "metadata": {},
   "outputs": [
    {
     "data": {
      "text/plain": [
       "7612.255042662042"
      ]
     },
     "execution_count": 23,
     "metadata": {},
     "output_type": "execute_result"
    }
   ],
   "source": [
    "a_30"
   ]
  },
  {
   "cell_type": "markdown",
   "id": "b5ec5f12-14c6-4ea6-8d86-592b5df5150a",
   "metadata": {},
   "source": [
    "Hence, the amount on deposit after 30 years is 7612.26 dollars."
   ]
  },
  {
   "cell_type": "markdown",
   "id": "0b73e9c9-c0a8-44b1-8089-173a4fdaaecb",
   "metadata": {},
   "source": [
    "To conclude, this is a summary of the amount on deposit:\n",
    "* After 10 years: 1967.15 dollars.\n",
    "* After 20 years: 3869.68 dollars.\n",
    "* After 30 years: 7612.26 dollars."
   ]
  },
  {
   "cell_type": "code",
   "execution_count": 24,
   "id": "4810375a-2e59-462b-8ca2-ba957f60f291",
   "metadata": {
    "tags": []
   },
   "outputs": [],
   "source": [
    "# 2.13 How Big Can Python Integers Be?"
   ]
  },
  {
   "cell_type": "markdown",
   "id": "ab6ecaaf-6011-47d7-a7e7-edcfa9546c5f",
   "metadata": {},
   "source": [
    "First, we try to raise 10 to the power 10."
   ]
  },
  {
   "cell_type": "code",
   "execution_count": 25,
   "id": "da2b1d09-c7d5-481f-8f20-e6eb29cef905",
   "metadata": {},
   "outputs": [],
   "source": [
    "number_1 = 10 ** 10"
   ]
  },
  {
   "cell_type": "code",
   "execution_count": 26,
   "id": "c7af98e8-c651-4be2-a355-8f58fa0b7743",
   "metadata": {},
   "outputs": [
    {
     "data": {
      "text/plain": [
       "10000000000"
      ]
     },
     "execution_count": 26,
     "metadata": {},
     "output_type": "execute_result"
    }
   ],
   "source": [
    "number_1"
   ]
  },
  {
   "cell_type": "markdown",
   "id": "af021a94-5d6b-4cd4-b8ca-250ecdc49c0f",
   "metadata": {},
   "source": [
    "Python is able to calculate this number perfectly! Now, we try 10 to the power 100 and 10 to the power 1000."
   ]
  },
  {
   "cell_type": "code",
   "execution_count": 27,
   "id": "81f92f87-53c8-4ed1-8cf8-efaeca939290",
   "metadata": {},
   "outputs": [],
   "source": [
    "number_2 = 10 ** 100"
   ]
  },
  {
   "cell_type": "code",
   "execution_count": 28,
   "id": "d35fa50f-c473-43fd-8587-b85f408a8c52",
   "metadata": {},
   "outputs": [
    {
     "data": {
      "text/plain": [
       "10000000000000000000000000000000000000000000000000000000000000000000000000000000000000000000000000000"
      ]
     },
     "execution_count": 28,
     "metadata": {},
     "output_type": "execute_result"
    }
   ],
   "source": [
    "number_2"
   ]
  },
  {
   "cell_type": "code",
   "execution_count": 52,
   "id": "fef84fa2-bd8b-45d5-b82e-426f158af368",
   "metadata": {},
   "outputs": [
    {
     "data": {
      "text/plain": [
       "10000000000000000000000000000000000000000000000000000000000000000000000000000000000000000000000000000"
      ]
     },
     "execution_count": 52,
     "metadata": {},
     "output_type": "execute_result"
    }
   ],
   "source": [
    "number_2"
   ]
  },
  {
   "cell_type": "code",
   "execution_count": 29,
   "id": "2104b2e2-402d-4c83-bfc2-d7453ee523e8",
   "metadata": {},
   "outputs": [],
   "source": [
    "number_3 = 10 ** 1000"
   ]
  },
  {
   "cell_type": "code",
   "execution_count": 31,
   "id": "069da8ea-50f0-4228-a1d0-a49ab1266aa0",
   "metadata": {},
   "outputs": [
    {
     "data": {
      "text/plain": [
       "10000000000000000000000000000000000000000000000000000000000000000000000000000000000000000000000000000000000000000000000000000000000000000000000000000000000000000000000000000000000000000000000000000000000000000000000000000000000000000000000000000000000000000000000000000000000000000000000000000000000000000000000000000000000000000000000000000000000000000000000000000000000000000000000000000000000000000000000000000000000000000000000000000000000000000000000000000000000000000000000000000000000000000000000000000000000000000000000000000000000000000000000000000000000000000000000000000000000000000000000000000000000000000000000000000000000000000000000000000000000000000000000000000000000000000000000000000000000000000000000000000000000000000000000000000000000000000000000000000000000000000000000000000000000000000000000000000000000000000000000000000000000000000000000000000000000000000000000000000000000000000000000000000000000000000000000000000000000000000000000000000000000000000000000000000000000000000"
      ]
     },
     "execution_count": 31,
     "metadata": {},
     "output_type": "execute_result"
    }
   ],
   "source": [
    "number_3"
   ]
  },
  {
   "cell_type": "markdown",
   "id": "789d543b-5ce3-464a-a738-b234ca32c13e",
   "metadata": {},
   "source": [
    "We can see that Python is able to calculate these numbers just as well! It seems like Python indeed does not restrict the range of values for an integer."
   ]
  },
  {
   "cell_type": "code",
   "execution_count": 32,
   "id": "b18d1cdf-6101-42a2-90fb-ea1a33d1ef4e",
   "metadata": {},
   "outputs": [],
   "source": [
    "# 2.11 Separating the Digits in an Integer"
   ]
  },
  {
   "cell_type": "code",
   "execution_count": 33,
   "id": "62fd30b7-81a1-48d0-8d7b-079aff222105",
   "metadata": {},
   "outputs": [
    {
     "name": "stdin",
     "output_type": "stream",
     "text": [
      "Type five numbers without spaces:  42339\n"
     ]
    },
    {
     "name": "stdout",
     "output_type": "stream",
     "text": [
      "4   2   3   3   9\n"
     ]
    }
   ],
   "source": [
    "\"\"\" Putting spaces between digits of a 5-digit number.\"\"\"\n",
    "\n",
    "integer = int(input('Type five numbers without spaces: '))\n",
    "digit_1 = integer // 10000 # Floor division to obtain individual digits.\n",
    "remainder_1 = (integer % (digit_1 * 10000)) # Use remainder operation to obtain digits still to be split.\n",
    "\n",
    "digit_2 = remainder_1 // 1000\n",
    "remainder_2 = (remainder_1 % (digit_2 * 1000))\n",
    "\n",
    "digit_3 = remainder_2 // 100\n",
    "remainder_3 = (remainder_2 % (digit_3 * 100))\n",
    "\n",
    "digit_4 = remainder_3 // 10\n",
    "\n",
    "digit_5 = (remainder_3 % (digit_4 * 10))\n",
    "\n",
    "print(digit_1, ' ', digit_2, ' ', digit_3, ' ', digit_4, ' ', digit_5)"
   ]
  }
 ],
 "metadata": {
  "kernelspec": {
   "display_name": "Python 3 (ipykernel)",
   "language": "python",
   "name": "python3"
  },
  "language_info": {
   "codemirror_mode": {
    "name": "ipython",
    "version": 3
   },
   "file_extension": ".py",
   "mimetype": "text/x-python",
   "name": "python",
   "nbconvert_exporter": "python",
   "pygments_lexer": "ipython3",
   "version": "3.8.11"
  }
 },
 "nbformat": 4,
 "nbformat_minor": 5
}
