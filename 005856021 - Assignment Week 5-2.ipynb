{
 "cells": [
  {
   "cell_type": "markdown",
   "id": "7b8093f7-d42e-43dd-8ce5-84bc8002a8cb",
   "metadata": {},
   "source": [
    "# 005856021 (UID) - Assignment Week 5 - Rick Kessels"
   ]
  },
  {
   "cell_type": "markdown",
   "id": "da8f6334-4dcf-447d-b0c1-481d6ace53b7",
   "metadata": {},
   "source": [
    "Self-Assessment: The exercises went pretty well! I was unable to figure out how to combine unicodes to make e.g. flags, and I couldn't find a clear answer on the internet either. Do you perhaps know how to do this? Thank you in advance!"
   ]
  },
  {
   "cell_type": "markdown",
   "id": "b98c2891-a2d1-4b0e-a785-8d0a66576c39",
   "metadata": {},
   "source": [
    "# 7.23 Pandas: DataFrames"
   ]
  },
  {
   "cell_type": "markdown",
   "id": "2e1b3d57-e2ba-4c5a-bdb0-bdeee1c339d1",
   "metadata": {},
   "source": [
    "a. We are asked to create a `DataFrame` named `temperatures` from a dictionary of three temperature readings each for `'Maxine'`, `'James'` and `'Amanda'`."
   ]
  },
  {
   "cell_type": "markdown",
   "id": "9a878ff1-b6e5-419a-a776-0a35c844ee8a",
   "metadata": {},
   "source": [
    "Let us first import `pandas` as follows:"
   ]
  },
  {
   "cell_type": "code",
   "execution_count": 1,
   "id": "e4610bae-e480-49d3-a777-c6190c00ec27",
   "metadata": {},
   "outputs": [],
   "source": [
    "import pandas as pd"
   ]
  },
  {
   "cell_type": "markdown",
   "id": "b25f3b19-e696-48df-b91c-78f6b00c6d71",
   "metadata": {},
   "source": [
    "Now, we will create a dictionary named `temperatures_dict` with the keys being the names of the people and the values being their three temperature readings."
   ]
  },
  {
   "cell_type": "code",
   "execution_count": 2,
   "id": "5c89a362-3621-4133-9a3d-ae254686c629",
   "metadata": {},
   "outputs": [],
   "source": [
    "temperatures_dict = {'Maxine': [70, 90, 75], \n",
    "                     'James': [73, 87, 77], \n",
    "                     'Amanda': [67, 85, 80]}"
   ]
  },
  {
   "cell_type": "markdown",
   "id": "6c4a8819-32ec-4275-8e53-8d9d5d9b9fee",
   "metadata": {},
   "source": [
    "Now that we have created our dictionary `temperatures_dict`, we turn it into a `DataFrame` by using the `pandas` function `pd.DataFrame()`:"
   ]
  },
  {
   "cell_type": "code",
   "execution_count": 3,
   "id": "b1da99b1-dff5-4c3d-8384-335531394044",
   "metadata": {},
   "outputs": [],
   "source": [
    "temperatures = pd.DataFrame(temperatures_dict)"
   ]
  },
  {
   "cell_type": "markdown",
   "id": "1589b386-5f23-4502-8a21-50d1bccacd6a",
   "metadata": {},
   "source": [
    "Let's now check the `DataFrame` `temperatures`."
   ]
  },
  {
   "cell_type": "code",
   "execution_count": 4,
   "id": "d8184eb6-d371-4dff-81cb-6882cb80a7ca",
   "metadata": {},
   "outputs": [
    {
     "data": {
      "text/html": [
       "<div>\n",
       "<style scoped>\n",
       "    .dataframe tbody tr th:only-of-type {\n",
       "        vertical-align: middle;\n",
       "    }\n",
       "\n",
       "    .dataframe tbody tr th {\n",
       "        vertical-align: top;\n",
       "    }\n",
       "\n",
       "    .dataframe thead th {\n",
       "        text-align: right;\n",
       "    }\n",
       "</style>\n",
       "<table border=\"1\" class=\"dataframe\">\n",
       "  <thead>\n",
       "    <tr style=\"text-align: right;\">\n",
       "      <th></th>\n",
       "      <th>Maxine</th>\n",
       "      <th>James</th>\n",
       "      <th>Amanda</th>\n",
       "    </tr>\n",
       "  </thead>\n",
       "  <tbody>\n",
       "    <tr>\n",
       "      <th>0</th>\n",
       "      <td>70</td>\n",
       "      <td>73</td>\n",
       "      <td>67</td>\n",
       "    </tr>\n",
       "    <tr>\n",
       "      <th>1</th>\n",
       "      <td>90</td>\n",
       "      <td>87</td>\n",
       "      <td>85</td>\n",
       "    </tr>\n",
       "    <tr>\n",
       "      <th>2</th>\n",
       "      <td>75</td>\n",
       "      <td>77</td>\n",
       "      <td>80</td>\n",
       "    </tr>\n",
       "  </tbody>\n",
       "</table>\n",
       "</div>"
      ],
      "text/plain": [
       "   Maxine  James  Amanda\n",
       "0      70     73      67\n",
       "1      90     87      85\n",
       "2      75     77      80"
      ]
     },
     "execution_count": 4,
     "metadata": {},
     "output_type": "execute_result"
    }
   ],
   "source": [
    "temperatures"
   ]
  },
  {
   "cell_type": "markdown",
   "id": "cd0a6247-1224-48bd-aa02-de63034d3078",
   "metadata": {},
   "source": [
    "What a nice looking `DataFrame`!"
   ]
  },
  {
   "cell_type": "markdown",
   "id": "1854075d-9e89-47f3-972f-ce4e52286641",
   "metadata": {},
   "source": [
    "b. We are now asked to recreate the previously created `DataFrame` `temperatures` with custom indices using the `index` keyword argument and a list containing `'Morning'`, `'Afternoon'\n",
    "`, and `'Evening'`."
   ]
  },
  {
   "cell_type": "markdown",
   "id": "7b35aa42-12b3-4457-aac7-1788369124d4",
   "metadata": {},
   "source": [
    "Let us first create a list `day_parts` containing the indices specified above."
   ]
  },
  {
   "cell_type": "code",
   "execution_count": 5,
   "id": "de0a4df5-1b49-4427-b071-1cce6400d345",
   "metadata": {},
   "outputs": [],
   "source": [
    "day_parts = ['Morning', 'Afternoon', 'Evening']"
   ]
  },
  {
   "cell_type": "markdown",
   "id": "a56bf266-aa98-44ff-83d6-923afa7c9f07",
   "metadata": {},
   "source": [
    "Now, we can specify our custom indices with the `index` keyword argument."
   ]
  },
  {
   "cell_type": "code",
   "execution_count": 6,
   "id": "24b2f38d-0cca-4a56-ac9c-825006defff0",
   "metadata": {},
   "outputs": [],
   "source": [
    "temperatures = pd.DataFrame(temperatures_dict, index=day_parts)"
   ]
  },
  {
   "cell_type": "markdown",
   "id": "ae930e2d-9cb6-4a93-a503-1a92ab4096fa",
   "metadata": {},
   "source": [
    "We store the recreated `DataFrame` into `temperatures` so we can retrieve it in the next couple of subquestions."
   ]
  },
  {
   "cell_type": "markdown",
   "id": "97112663-4ef9-400c-8b0b-9bf1d08b7cae",
   "metadata": {},
   "source": [
    "We could also do the same thing in only one statement by specifying the elements of the list in code snippet [NUMBER]."
   ]
  },
  {
   "cell_type": "code",
   "execution_count": 7,
   "id": "f749cf39-d880-4f86-8bb8-f0e8cbd9f2be",
   "metadata": {},
   "outputs": [],
   "source": [
    "temperatures = pd.DataFrame(temperatures_dict, index=['Morning', 'Afternoon', 'Evening'])"
   ]
  },
  {
   "cell_type": "markdown",
   "id": "744b5c81-d30c-4380-b48b-447b4033dae5",
   "metadata": {},
   "source": [
    "c. We are asked to select from our `DataFrame` `temperatures` the column of temperature readings from `'Maxine'`. "
   ]
  },
  {
   "cell_type": "markdown",
   "id": "65df01a2-6efd-40ef-8f4a-84e666e9e4ba",
   "metadata": {},
   "source": [
    "We get `'Maxine'`'s temperature readings by name. We expect the output to be displayed as a `Series`. "
   ]
  },
  {
   "cell_type": "code",
   "execution_count": 8,
   "id": "bb4f12d8-543b-4fda-9a0e-b9369da11156",
   "metadata": {},
   "outputs": [
    {
     "data": {
      "text/plain": [
       "Morning      70\n",
       "Afternoon    90\n",
       "Evening      75\n",
       "Name: Maxine, dtype: int64"
      ]
     },
     "execution_count": 8,
     "metadata": {},
     "output_type": "execute_result"
    }
   ],
   "source": [
    "temperatures['Maxine']"
   ]
  },
  {
   "cell_type": "markdown",
   "id": "86981f8c-4bd9-4da0-bca8-3ff2a16d5057",
   "metadata": {},
   "source": [
    "d. Now, we are asked to select from our `DataFrame` `temperatures` the row of temperature readings in the `'Morning'`."
   ]
  },
  {
   "cell_type": "markdown",
   "id": "9f01d5eb-d4d2-4dc0-a8cd-6b0e97e65fe8",
   "metadata": {},
   "source": [
    "We can access the `'Morning'` row by the label `'Morning'` via the `DataFrame`'s `loc` attribute as follows:"
   ]
  },
  {
   "cell_type": "code",
   "execution_count": 9,
   "id": "7c3ff362-1862-49cc-b48c-feb9a314c75e",
   "metadata": {},
   "outputs": [
    {
     "data": {
      "text/plain": [
       "Maxine    70\n",
       "James     73\n",
       "Amanda    67\n",
       "Name: Morning, dtype: int64"
      ]
     },
     "execution_count": 9,
     "metadata": {},
     "output_type": "execute_result"
    }
   ],
   "source": [
    "temperatures.loc['Morning']"
   ]
  },
  {
   "cell_type": "markdown",
   "id": "a5149b06-af7d-4440-a61d-92077fd4ae96",
   "metadata": {},
   "source": [
    "We could have also accessed the data by specifying the zero-based index of the row we want to access. Since `'Morning'` is the first row (so row `0`), we can access the data as follows:"
   ]
  },
  {
   "cell_type": "code",
   "execution_count": 10,
   "id": "421ccddf-8853-4555-97e1-4e15ecd7c863",
   "metadata": {},
   "outputs": [
    {
     "data": {
      "text/plain": [
       "Maxine    70\n",
       "James     73\n",
       "Amanda    67\n",
       "Name: Morning, dtype: int64"
      ]
     },
     "execution_count": 10,
     "metadata": {},
     "output_type": "execute_result"
    }
   ],
   "source": [
    "temperatures.iloc[0]"
   ]
  },
  {
   "cell_type": "markdown",
   "id": "1c66f8e5-b4c2-49fe-b3fa-47c5286977c7",
   "metadata": {},
   "source": [
    "This indeed gives the same data!"
   ]
  },
  {
   "cell_type": "markdown",
   "id": "6c02e7aa-c964-48cd-ac4e-9ffcd1162156",
   "metadata": {},
   "source": [
    "e. We are now asked to select from our `DataFrame` `temperatures` the rows of temperature readings corresponding to the `'Morning'` and `'Evening'`. "
   ]
  },
  {
   "cell_type": "markdown",
   "id": "2d16ce97-c7ed-4828-8784-6dab4874dce2",
   "metadata": {},
   "source": [
    "To select the specific rows corresponding to `'Morning'` and `'Evening'`, we use the `loc` function with the indices '`Morning'` and `'Evening'` separated by a comma."
   ]
  },
  {
   "cell_type": "code",
   "execution_count": 11,
   "id": "e7fd0e81-9017-482b-a85e-d741fd011d07",
   "metadata": {},
   "outputs": [
    {
     "data": {
      "text/html": [
       "<div>\n",
       "<style scoped>\n",
       "    .dataframe tbody tr th:only-of-type {\n",
       "        vertical-align: middle;\n",
       "    }\n",
       "\n",
       "    .dataframe tbody tr th {\n",
       "        vertical-align: top;\n",
       "    }\n",
       "\n",
       "    .dataframe thead th {\n",
       "        text-align: right;\n",
       "    }\n",
       "</style>\n",
       "<table border=\"1\" class=\"dataframe\">\n",
       "  <thead>\n",
       "    <tr style=\"text-align: right;\">\n",
       "      <th></th>\n",
       "      <th>Maxine</th>\n",
       "      <th>James</th>\n",
       "      <th>Amanda</th>\n",
       "    </tr>\n",
       "  </thead>\n",
       "  <tbody>\n",
       "    <tr>\n",
       "      <th>Morning</th>\n",
       "      <td>70</td>\n",
       "      <td>73</td>\n",
       "      <td>67</td>\n",
       "    </tr>\n",
       "    <tr>\n",
       "      <th>Evening</th>\n",
       "      <td>75</td>\n",
       "      <td>77</td>\n",
       "      <td>80</td>\n",
       "    </tr>\n",
       "  </tbody>\n",
       "</table>\n",
       "</div>"
      ],
      "text/plain": [
       "         Maxine  James  Amanda\n",
       "Morning      70     73      67\n",
       "Evening      75     77      80"
      ]
     },
     "execution_count": 11,
     "metadata": {},
     "output_type": "execute_result"
    }
   ],
   "source": [
    "temperatures.loc[['Morning', 'Evening']]"
   ]
  },
  {
   "cell_type": "markdown",
   "id": "4590384c-6bad-48fc-a159-ee0bf2500ef9",
   "metadata": {},
   "source": [
    "I also tried out using a list of row indices. Since `'Morning'` is the first row (so row `0`) and the third row (so row `2`), we can make a list out of these two indices and retrieve the data by means of the `iloc` function as follows:"
   ]
  },
  {
   "cell_type": "code",
   "execution_count": 12,
   "id": "7ed0ce55-659d-4c40-9f95-82fbb6e8d7e5",
   "metadata": {},
   "outputs": [
    {
     "data": {
      "text/html": [
       "<div>\n",
       "<style scoped>\n",
       "    .dataframe tbody tr th:only-of-type {\n",
       "        vertical-align: middle;\n",
       "    }\n",
       "\n",
       "    .dataframe tbody tr th {\n",
       "        vertical-align: top;\n",
       "    }\n",
       "\n",
       "    .dataframe thead th {\n",
       "        text-align: right;\n",
       "    }\n",
       "</style>\n",
       "<table border=\"1\" class=\"dataframe\">\n",
       "  <thead>\n",
       "    <tr style=\"text-align: right;\">\n",
       "      <th></th>\n",
       "      <th>Maxine</th>\n",
       "      <th>James</th>\n",
       "      <th>Amanda</th>\n",
       "    </tr>\n",
       "  </thead>\n",
       "  <tbody>\n",
       "    <tr>\n",
       "      <th>Morning</th>\n",
       "      <td>70</td>\n",
       "      <td>73</td>\n",
       "      <td>67</td>\n",
       "    </tr>\n",
       "    <tr>\n",
       "      <th>Evening</th>\n",
       "      <td>75</td>\n",
       "      <td>77</td>\n",
       "      <td>80</td>\n",
       "    </tr>\n",
       "  </tbody>\n",
       "</table>\n",
       "</div>"
      ],
      "text/plain": [
       "         Maxine  James  Amanda\n",
       "Morning      70     73      67\n",
       "Evening      75     77      80"
      ]
     },
     "execution_count": 12,
     "metadata": {},
     "output_type": "execute_result"
    }
   ],
   "source": [
    "temperatures.iloc[[0, 2]]"
   ]
  },
  {
   "cell_type": "markdown",
   "id": "033081cb-eba6-47b7-adb1-cbf7dce78c98",
   "metadata": {},
   "source": [
    "f. Now we are facing a similar problem, but we have to select the columns corresponding to `'Amanda'`'s and `'Maxine'`'s temperature readings (instead of selecting the rows). We can again do it in two different ways: (1) by using a list of names, or (2) by using a list of column indices. Let us first try using a list of names. We again use the `loc` method of `DataFrame` and specify the list of names `['Amanda', 'Maxine']`:"
   ]
  },
  {
   "cell_type": "code",
   "execution_count": 13,
   "id": "ac6fbe09-f672-4af8-932b-950bfc1bb941",
   "metadata": {},
   "outputs": [
    {
     "data": {
      "text/html": [
       "<div>\n",
       "<style scoped>\n",
       "    .dataframe tbody tr th:only-of-type {\n",
       "        vertical-align: middle;\n",
       "    }\n",
       "\n",
       "    .dataframe tbody tr th {\n",
       "        vertical-align: top;\n",
       "    }\n",
       "\n",
       "    .dataframe thead th {\n",
       "        text-align: right;\n",
       "    }\n",
       "</style>\n",
       "<table border=\"1\" class=\"dataframe\">\n",
       "  <thead>\n",
       "    <tr style=\"text-align: right;\">\n",
       "      <th></th>\n",
       "      <th>Amanda</th>\n",
       "      <th>Maxine</th>\n",
       "    </tr>\n",
       "  </thead>\n",
       "  <tbody>\n",
       "    <tr>\n",
       "      <th>Morning</th>\n",
       "      <td>67</td>\n",
       "      <td>70</td>\n",
       "    </tr>\n",
       "    <tr>\n",
       "      <th>Afternoon</th>\n",
       "      <td>85</td>\n",
       "      <td>90</td>\n",
       "    </tr>\n",
       "    <tr>\n",
       "      <th>Evening</th>\n",
       "      <td>80</td>\n",
       "      <td>75</td>\n",
       "    </tr>\n",
       "  </tbody>\n",
       "</table>\n",
       "</div>"
      ],
      "text/plain": [
       "           Amanda  Maxine\n",
       "Morning        67      70\n",
       "Afternoon      85      90\n",
       "Evening        80      75"
      ]
     },
     "execution_count": 13,
     "metadata": {},
     "output_type": "execute_result"
    }
   ],
   "source": [
    "temperatures.loc[:, ['Amanda', 'Maxine']]"
   ]
  },
  {
   "cell_type": "markdown",
   "id": "c687de92-636c-4b86-8071-5136eff7d783",
   "metadata": {},
   "source": [
    "Let us try using a list of column indices instead. Since `'Maxine'` is the first column (so column `0`) and `'Amanda'` is the third column (so column `2`), we specify our list as follows:"
   ]
  },
  {
   "cell_type": "code",
   "execution_count": 14,
   "id": "01db15ef-98f6-4130-a65d-79d14ff7aa48",
   "metadata": {},
   "outputs": [
    {
     "data": {
      "text/html": [
       "<div>\n",
       "<style scoped>\n",
       "    .dataframe tbody tr th:only-of-type {\n",
       "        vertical-align: middle;\n",
       "    }\n",
       "\n",
       "    .dataframe tbody tr th {\n",
       "        vertical-align: top;\n",
       "    }\n",
       "\n",
       "    .dataframe thead th {\n",
       "        text-align: right;\n",
       "    }\n",
       "</style>\n",
       "<table border=\"1\" class=\"dataframe\">\n",
       "  <thead>\n",
       "    <tr style=\"text-align: right;\">\n",
       "      <th></th>\n",
       "      <th>Amanda</th>\n",
       "      <th>Maxine</th>\n",
       "    </tr>\n",
       "  </thead>\n",
       "  <tbody>\n",
       "    <tr>\n",
       "      <th>Morning</th>\n",
       "      <td>67</td>\n",
       "      <td>70</td>\n",
       "    </tr>\n",
       "    <tr>\n",
       "      <th>Afternoon</th>\n",
       "      <td>85</td>\n",
       "      <td>90</td>\n",
       "    </tr>\n",
       "    <tr>\n",
       "      <th>Evening</th>\n",
       "      <td>80</td>\n",
       "      <td>75</td>\n",
       "    </tr>\n",
       "  </tbody>\n",
       "</table>\n",
       "</div>"
      ],
      "text/plain": [
       "           Amanda  Maxine\n",
       "Morning        67      70\n",
       "Afternoon      85      90\n",
       "Evening        80      75"
      ]
     },
     "execution_count": 14,
     "metadata": {},
     "output_type": "execute_result"
    }
   ],
   "source": [
    "temperatures.iloc[:, [2, 0]]"
   ]
  },
  {
   "cell_type": "markdown",
   "id": "68cf0685-86fe-4d95-9ad4-8180b46d44af",
   "metadata": {},
   "source": [
    "Note that we want the readings of `'Amanda'` first, so we use the list `[2, 0]` instead of `[0, 2]`."
   ]
  },
  {
   "cell_type": "markdown",
   "id": "6b353fc0-9662-4475-b3b2-4335a0aabc4b",
   "metadata": {},
   "source": [
    "g. We are asked to get `'Amanda'`'s and '`Maxine'`'s readings for only the `'Morning'` and `'Afternoon'`. We can do this by combining our answers for question (e) and (f) (and replace `'Evening'` for `'Afternoon'` of course) as follows:"
   ]
  },
  {
   "cell_type": "code",
   "execution_count": 15,
   "id": "1d1c6733-22a0-4623-b6b7-783b418d16ae",
   "metadata": {},
   "outputs": [
    {
     "data": {
      "text/html": [
       "<div>\n",
       "<style scoped>\n",
       "    .dataframe tbody tr th:only-of-type {\n",
       "        vertical-align: middle;\n",
       "    }\n",
       "\n",
       "    .dataframe tbody tr th {\n",
       "        vertical-align: top;\n",
       "    }\n",
       "\n",
       "    .dataframe thead th {\n",
       "        text-align: right;\n",
       "    }\n",
       "</style>\n",
       "<table border=\"1\" class=\"dataframe\">\n",
       "  <thead>\n",
       "    <tr style=\"text-align: right;\">\n",
       "      <th></th>\n",
       "      <th>Amanda</th>\n",
       "      <th>Maxine</th>\n",
       "    </tr>\n",
       "  </thead>\n",
       "  <tbody>\n",
       "    <tr>\n",
       "      <th>Morning</th>\n",
       "      <td>67</td>\n",
       "      <td>70</td>\n",
       "    </tr>\n",
       "    <tr>\n",
       "      <th>Afternoon</th>\n",
       "      <td>85</td>\n",
       "      <td>90</td>\n",
       "    </tr>\n",
       "  </tbody>\n",
       "</table>\n",
       "</div>"
      ],
      "text/plain": [
       "           Amanda  Maxine\n",
       "Morning        67      70\n",
       "Afternoon      85      90"
      ]
     },
     "execution_count": 15,
     "metadata": {},
     "output_type": "execute_result"
    }
   ],
   "source": [
    "temperatures.loc[['Morning', 'Afternoon'], ['Amanda', 'Maxine']]"
   ]
  },
  {
   "cell_type": "code",
   "execution_count": 16,
   "id": "182bc003-6548-45fa-9880-9d7da2433be1",
   "metadata": {},
   "outputs": [
    {
     "data": {
      "text/html": [
       "<div>\n",
       "<style scoped>\n",
       "    .dataframe tbody tr th:only-of-type {\n",
       "        vertical-align: middle;\n",
       "    }\n",
       "\n",
       "    .dataframe tbody tr th {\n",
       "        vertical-align: top;\n",
       "    }\n",
       "\n",
       "    .dataframe thead th {\n",
       "        text-align: right;\n",
       "    }\n",
       "</style>\n",
       "<table border=\"1\" class=\"dataframe\">\n",
       "  <thead>\n",
       "    <tr style=\"text-align: right;\">\n",
       "      <th></th>\n",
       "      <th>Amanda</th>\n",
       "      <th>Maxine</th>\n",
       "    </tr>\n",
       "  </thead>\n",
       "  <tbody>\n",
       "    <tr>\n",
       "      <th>Morning</th>\n",
       "      <td>67</td>\n",
       "      <td>70</td>\n",
       "    </tr>\n",
       "    <tr>\n",
       "      <th>Afternoon</th>\n",
       "      <td>85</td>\n",
       "      <td>90</td>\n",
       "    </tr>\n",
       "  </tbody>\n",
       "</table>\n",
       "</div>"
      ],
      "text/plain": [
       "           Amanda  Maxine\n",
       "Morning        67      70\n",
       "Afternoon      85      90"
      ]
     },
     "execution_count": 16,
     "metadata": {},
     "output_type": "execute_result"
    }
   ],
   "source": [
    "temperatures.iloc[[0, 1], [2, 0]]"
   ]
  },
  {
   "cell_type": "markdown",
   "id": "f3fa038b-f21a-4a8c-8396-a6eb8806b3a4",
   "metadata": {},
   "source": [
    "h. We now examine the descriptive statistics of the `DataFrame` `temperatures` by using the `describe` method embedded in the `DataFrame` type:"
   ]
  },
  {
   "cell_type": "code",
   "execution_count": 17,
   "id": "23150490-0acc-4995-aabd-ac5a47ac2c24",
   "metadata": {},
   "outputs": [
    {
     "data": {
      "text/html": [
       "<div>\n",
       "<style scoped>\n",
       "    .dataframe tbody tr th:only-of-type {\n",
       "        vertical-align: middle;\n",
       "    }\n",
       "\n",
       "    .dataframe tbody tr th {\n",
       "        vertical-align: top;\n",
       "    }\n",
       "\n",
       "    .dataframe thead th {\n",
       "        text-align: right;\n",
       "    }\n",
       "</style>\n",
       "<table border=\"1\" class=\"dataframe\">\n",
       "  <thead>\n",
       "    <tr style=\"text-align: right;\">\n",
       "      <th></th>\n",
       "      <th>Maxine</th>\n",
       "      <th>James</th>\n",
       "      <th>Amanda</th>\n",
       "    </tr>\n",
       "  </thead>\n",
       "  <tbody>\n",
       "    <tr>\n",
       "      <th>count</th>\n",
       "      <td>3.000000</td>\n",
       "      <td>3.000000</td>\n",
       "      <td>3.000000</td>\n",
       "    </tr>\n",
       "    <tr>\n",
       "      <th>mean</th>\n",
       "      <td>78.333333</td>\n",
       "      <td>79.000000</td>\n",
       "      <td>77.333333</td>\n",
       "    </tr>\n",
       "    <tr>\n",
       "      <th>std</th>\n",
       "      <td>10.408330</td>\n",
       "      <td>7.211103</td>\n",
       "      <td>9.291573</td>\n",
       "    </tr>\n",
       "    <tr>\n",
       "      <th>min</th>\n",
       "      <td>70.000000</td>\n",
       "      <td>73.000000</td>\n",
       "      <td>67.000000</td>\n",
       "    </tr>\n",
       "    <tr>\n",
       "      <th>25%</th>\n",
       "      <td>72.500000</td>\n",
       "      <td>75.000000</td>\n",
       "      <td>73.500000</td>\n",
       "    </tr>\n",
       "    <tr>\n",
       "      <th>50%</th>\n",
       "      <td>75.000000</td>\n",
       "      <td>77.000000</td>\n",
       "      <td>80.000000</td>\n",
       "    </tr>\n",
       "    <tr>\n",
       "      <th>75%</th>\n",
       "      <td>82.500000</td>\n",
       "      <td>82.000000</td>\n",
       "      <td>82.500000</td>\n",
       "    </tr>\n",
       "    <tr>\n",
       "      <th>max</th>\n",
       "      <td>90.000000</td>\n",
       "      <td>87.000000</td>\n",
       "      <td>85.000000</td>\n",
       "    </tr>\n",
       "  </tbody>\n",
       "</table>\n",
       "</div>"
      ],
      "text/plain": [
       "          Maxine      James     Amanda\n",
       "count   3.000000   3.000000   3.000000\n",
       "mean   78.333333  79.000000  77.333333\n",
       "std    10.408330   7.211103   9.291573\n",
       "min    70.000000  73.000000  67.000000\n",
       "25%    72.500000  75.000000  73.500000\n",
       "50%    75.000000  77.000000  80.000000\n",
       "75%    82.500000  82.000000  82.500000\n",
       "max    90.000000  87.000000  85.000000"
      ]
     },
     "execution_count": 17,
     "metadata": {},
     "output_type": "execute_result"
    }
   ],
   "source": [
    "temperatures.describe()"
   ]
  },
  {
   "cell_type": "markdown",
   "id": "48d12b04-a14e-411c-bdc2-a5cfa7a3a0dd",
   "metadata": {},
   "source": [
    "We can see the following descriptive statistics about the `DataFrame` `temperatures`:\n",
    "- count: The number of data points associated to each person.\n",
    "- mean: The average temperature reading for each person.\n",
    "- std: The standard deviation regarding the temperature readings for each person.\n",
    "- min: The minimum of the temperature readings for each person.\n",
    "- 25%: The median of the first half of the sorted temperature readings for each person.\n",
    "- 50%: The median of the sorted temperature readings for each person.\n",
    "- 75%: The median of the second half of the sorted temperature readings for each person.\n",
    "- max: The maximum of the temperature readings for each person."
   ]
  },
  {
   "cell_type": "markdown",
   "id": "ae86ab90-ef0a-4e9e-ad0c-d8b90856313a",
   "metadata": {},
   "source": [
    "i. We can transpose the `DataFrame` `temperatures` by using the expression `.T`."
   ]
  },
  {
   "cell_type": "markdown",
   "id": "60cc8bd0-7327-417f-9183-2f89818ecb85",
   "metadata": {},
   "source": [
    "Our current `DataFrame` `temperatures` looks as follows:"
   ]
  },
  {
   "cell_type": "code",
   "execution_count": 18,
   "id": "e3978c77-b846-47e0-a570-f1dc79911e40",
   "metadata": {},
   "outputs": [
    {
     "data": {
      "text/html": [
       "<div>\n",
       "<style scoped>\n",
       "    .dataframe tbody tr th:only-of-type {\n",
       "        vertical-align: middle;\n",
       "    }\n",
       "\n",
       "    .dataframe tbody tr th {\n",
       "        vertical-align: top;\n",
       "    }\n",
       "\n",
       "    .dataframe thead th {\n",
       "        text-align: right;\n",
       "    }\n",
       "</style>\n",
       "<table border=\"1\" class=\"dataframe\">\n",
       "  <thead>\n",
       "    <tr style=\"text-align: right;\">\n",
       "      <th></th>\n",
       "      <th>Maxine</th>\n",
       "      <th>James</th>\n",
       "      <th>Amanda</th>\n",
       "    </tr>\n",
       "  </thead>\n",
       "  <tbody>\n",
       "    <tr>\n",
       "      <th>Morning</th>\n",
       "      <td>70</td>\n",
       "      <td>73</td>\n",
       "      <td>67</td>\n",
       "    </tr>\n",
       "    <tr>\n",
       "      <th>Afternoon</th>\n",
       "      <td>90</td>\n",
       "      <td>87</td>\n",
       "      <td>85</td>\n",
       "    </tr>\n",
       "    <tr>\n",
       "      <th>Evening</th>\n",
       "      <td>75</td>\n",
       "      <td>77</td>\n",
       "      <td>80</td>\n",
       "    </tr>\n",
       "  </tbody>\n",
       "</table>\n",
       "</div>"
      ],
      "text/plain": [
       "           Maxine  James  Amanda\n",
       "Morning        70     73      67\n",
       "Afternoon      90     87      85\n",
       "Evening        75     77      80"
      ]
     },
     "execution_count": 18,
     "metadata": {},
     "output_type": "execute_result"
    }
   ],
   "source": [
    "temperatures"
   ]
  },
  {
   "cell_type": "markdown",
   "id": "55f1ef86-cbe2-46c6-b785-5c4a2184a861",
   "metadata": {},
   "source": [
    "Now, we will transpose `temperatures`:"
   ]
  },
  {
   "cell_type": "code",
   "execution_count": 19,
   "id": "5c455da6-3cca-4d93-90f8-c6710c3427e1",
   "metadata": {},
   "outputs": [
    {
     "data": {
      "text/html": [
       "<div>\n",
       "<style scoped>\n",
       "    .dataframe tbody tr th:only-of-type {\n",
       "        vertical-align: middle;\n",
       "    }\n",
       "\n",
       "    .dataframe tbody tr th {\n",
       "        vertical-align: top;\n",
       "    }\n",
       "\n",
       "    .dataframe thead th {\n",
       "        text-align: right;\n",
       "    }\n",
       "</style>\n",
       "<table border=\"1\" class=\"dataframe\">\n",
       "  <thead>\n",
       "    <tr style=\"text-align: right;\">\n",
       "      <th></th>\n",
       "      <th>Morning</th>\n",
       "      <th>Afternoon</th>\n",
       "      <th>Evening</th>\n",
       "    </tr>\n",
       "  </thead>\n",
       "  <tbody>\n",
       "    <tr>\n",
       "      <th>Maxine</th>\n",
       "      <td>70</td>\n",
       "      <td>90</td>\n",
       "      <td>75</td>\n",
       "    </tr>\n",
       "    <tr>\n",
       "      <th>James</th>\n",
       "      <td>73</td>\n",
       "      <td>87</td>\n",
       "      <td>77</td>\n",
       "    </tr>\n",
       "    <tr>\n",
       "      <th>Amanda</th>\n",
       "      <td>67</td>\n",
       "      <td>85</td>\n",
       "      <td>80</td>\n",
       "    </tr>\n",
       "  </tbody>\n",
       "</table>\n",
       "</div>"
      ],
      "text/plain": [
       "        Morning  Afternoon  Evening\n",
       "Maxine       70         90       75\n",
       "James        73         87       77\n",
       "Amanda       67         85       80"
      ]
     },
     "execution_count": 19,
     "metadata": {},
     "output_type": "execute_result"
    }
   ],
   "source": [
    "temperatures.T"
   ]
  },
  {
   "cell_type": "markdown",
   "id": "66913221-e554-47ca-9e15-7dc2de598ce1",
   "metadata": {},
   "source": [
    "We indeed see that `temperatures` is transposed!"
   ]
  },
  {
   "cell_type": "markdown",
   "id": "e4187d3d-297c-4506-9a5a-848f07645b55",
   "metadata": {},
   "source": [
    "j. We now have to sort the column names so that these are in alphabetical order. The current order is `'Maxine'`, `'James'`, `'Amanda'`, which should be ordered into `'Amanda'`, `'James'`, `'Maxine'`. We use the `sort_index` function to sort the column names in alphabetical order, and since we try to do this for the columns, we use the argument `axis=1`."
   ]
  },
  {
   "cell_type": "code",
   "execution_count": 20,
   "id": "a871a395-b947-4d18-8265-3135a50baeed",
   "metadata": {},
   "outputs": [
    {
     "data": {
      "text/html": [
       "<div>\n",
       "<style scoped>\n",
       "    .dataframe tbody tr th:only-of-type {\n",
       "        vertical-align: middle;\n",
       "    }\n",
       "\n",
       "    .dataframe tbody tr th {\n",
       "        vertical-align: top;\n",
       "    }\n",
       "\n",
       "    .dataframe thead th {\n",
       "        text-align: right;\n",
       "    }\n",
       "</style>\n",
       "<table border=\"1\" class=\"dataframe\">\n",
       "  <thead>\n",
       "    <tr style=\"text-align: right;\">\n",
       "      <th></th>\n",
       "      <th>Amanda</th>\n",
       "      <th>James</th>\n",
       "      <th>Maxine</th>\n",
       "    </tr>\n",
       "  </thead>\n",
       "  <tbody>\n",
       "    <tr>\n",
       "      <th>Morning</th>\n",
       "      <td>67</td>\n",
       "      <td>73</td>\n",
       "      <td>70</td>\n",
       "    </tr>\n",
       "    <tr>\n",
       "      <th>Afternoon</th>\n",
       "      <td>85</td>\n",
       "      <td>87</td>\n",
       "      <td>90</td>\n",
       "    </tr>\n",
       "    <tr>\n",
       "      <th>Evening</th>\n",
       "      <td>80</td>\n",
       "      <td>77</td>\n",
       "      <td>75</td>\n",
       "    </tr>\n",
       "  </tbody>\n",
       "</table>\n",
       "</div>"
      ],
      "text/plain": [
       "           Amanda  James  Maxine\n",
       "Morning        67     73      70\n",
       "Afternoon      85     87      90\n",
       "Evening        80     77      75"
      ]
     },
     "execution_count": 20,
     "metadata": {},
     "output_type": "execute_result"
    }
   ],
   "source": [
    "temperatures.sort_index(axis=1)"
   ]
  },
  {
   "cell_type": "markdown",
   "id": "101c8a3c-c6de-483a-8e49-f0db337e5a36",
   "metadata": {},
   "source": [
    "It worked!"
   ]
  },
  {
   "cell_type": "markdown",
   "id": "86c5a0ce-476b-488d-91ad-4ff9509199e2",
   "metadata": {},
   "source": [
    "We can also sort the row names in alphabetical order by using the same statement as before, but instead by using `axis=1`, we use `axis=0`."
   ]
  },
  {
   "cell_type": "code",
   "execution_count": 21,
   "id": "102b05a1-d07c-48d9-971d-79c81b13d1dd",
   "metadata": {},
   "outputs": [
    {
     "data": {
      "text/html": [
       "<div>\n",
       "<style scoped>\n",
       "    .dataframe tbody tr th:only-of-type {\n",
       "        vertical-align: middle;\n",
       "    }\n",
       "\n",
       "    .dataframe tbody tr th {\n",
       "        vertical-align: top;\n",
       "    }\n",
       "\n",
       "    .dataframe thead th {\n",
       "        text-align: right;\n",
       "    }\n",
       "</style>\n",
       "<table border=\"1\" class=\"dataframe\">\n",
       "  <thead>\n",
       "    <tr style=\"text-align: right;\">\n",
       "      <th></th>\n",
       "      <th>Maxine</th>\n",
       "      <th>James</th>\n",
       "      <th>Amanda</th>\n",
       "    </tr>\n",
       "  </thead>\n",
       "  <tbody>\n",
       "    <tr>\n",
       "      <th>Afternoon</th>\n",
       "      <td>90</td>\n",
       "      <td>87</td>\n",
       "      <td>85</td>\n",
       "    </tr>\n",
       "    <tr>\n",
       "      <th>Evening</th>\n",
       "      <td>75</td>\n",
       "      <td>77</td>\n",
       "      <td>80</td>\n",
       "    </tr>\n",
       "    <tr>\n",
       "      <th>Morning</th>\n",
       "      <td>70</td>\n",
       "      <td>73</td>\n",
       "      <td>67</td>\n",
       "    </tr>\n",
       "  </tbody>\n",
       "</table>\n",
       "</div>"
      ],
      "text/plain": [
       "           Maxine  James  Amanda\n",
       "Afternoon      90     87      85\n",
       "Evening        75     77      80\n",
       "Morning        70     73      67"
      ]
     },
     "execution_count": 21,
     "metadata": {},
     "output_type": "execute_result"
    }
   ],
   "source": [
    "temperatures.sort_index(axis=0)"
   ]
  },
  {
   "cell_type": "markdown",
   "id": "d1ed4d94-4137-47bf-8925-b48f2276484e",
   "metadata": {},
   "source": [
    "Let's try if we can do this sorting simultaneously as well!"
   ]
  },
  {
   "cell_type": "code",
   "execution_count": 22,
   "id": "471fdc6f-b008-4a13-9360-605819af1d16",
   "metadata": {},
   "outputs": [
    {
     "data": {
      "text/html": [
       "<div>\n",
       "<style scoped>\n",
       "    .dataframe tbody tr th:only-of-type {\n",
       "        vertical-align: middle;\n",
       "    }\n",
       "\n",
       "    .dataframe tbody tr th {\n",
       "        vertical-align: top;\n",
       "    }\n",
       "\n",
       "    .dataframe thead th {\n",
       "        text-align: right;\n",
       "    }\n",
       "</style>\n",
       "<table border=\"1\" class=\"dataframe\">\n",
       "  <thead>\n",
       "    <tr style=\"text-align: right;\">\n",
       "      <th></th>\n",
       "      <th>Amanda</th>\n",
       "      <th>James</th>\n",
       "      <th>Maxine</th>\n",
       "    </tr>\n",
       "  </thead>\n",
       "  <tbody>\n",
       "    <tr>\n",
       "      <th>Afternoon</th>\n",
       "      <td>85</td>\n",
       "      <td>87</td>\n",
       "      <td>90</td>\n",
       "    </tr>\n",
       "    <tr>\n",
       "      <th>Evening</th>\n",
       "      <td>80</td>\n",
       "      <td>77</td>\n",
       "      <td>75</td>\n",
       "    </tr>\n",
       "    <tr>\n",
       "      <th>Morning</th>\n",
       "      <td>67</td>\n",
       "      <td>73</td>\n",
       "      <td>70</td>\n",
       "    </tr>\n",
       "  </tbody>\n",
       "</table>\n",
       "</div>"
      ],
      "text/plain": [
       "           Amanda  James  Maxine\n",
       "Afternoon      85     87      90\n",
       "Evening        80     77      75\n",
       "Morning        67     73      70"
      ]
     },
     "execution_count": 22,
     "metadata": {},
     "output_type": "execute_result"
    }
   ],
   "source": [
    "temperatures.sort_index(axis=0).sort_index(axis=1)"
   ]
  },
  {
   "cell_type": "markdown",
   "id": "768b53c2-3a6b-490d-9512-783d40386066",
   "metadata": {},
   "source": [
    "# 8.3 Pig Latin"
   ]
  },
  {
   "cell_type": "markdown",
   "id": "fa8d454f-d509-4801-a231-e0700c6d439e",
   "metadata": {},
   "source": [
    "We are asked to write a script that encodes English-language phrases into a form of coded language called pig Latin. "
   ]
  },
  {
   "cell_type": "markdown",
   "id": "d58238a0-6837-4833-a9d8-39c45debb24c",
   "metadata": {},
   "source": [
    "We write a function `convert_to_pig_latin` that takes as an input a `string` `sentence`. It will then first initialize the `pig_latin_sentence`, in which the `sentence`, as written in pig Latin, will be stored. As indicated by the exercise description, we will use the `split()` function to split the `sentence` into individual words. Here, we assume that the words in the `sentence` are being separated by a single space. We store the individual words as retrieved by the `split()` function into a list of strings called `word_list`."
   ]
  },
  {
   "cell_type": "markdown",
   "id": "dd1dffd2-7253-428c-935c-2350b43cff39",
   "metadata": {},
   "source": [
    "For each `word` in the list of strings `word_list`, we do the following: We check if the first letter of the `word` is a vowel. We use the `lower()` function to convert any possible capital letters to lowercase letters. This makes checking for a vowel easier. We make a tuple containing all vowels in lowercase form , and check whether the first letter (`word[0].lower()`) is in the tuple of vowels.\n",
    "- If so, we just add \"ay\" to the end of the `word` to convert `word` to pig Latin. We add this pig-Latin word with a space at the end to the `pig_latin_sentence`.\n",
    "- Else, we take the original `word` and place the first letter (`word[0]`) at the end of the word (so after `word[1:len(word)]`) and remove this letter at the beginning of the `word`. Then, we add \"ay\" with an extra space at the end again.\n",
    "\n",
    "Finally, we remove the final space in the `pig_latin_sentence` for redundancy purposes."
   ]
  },
  {
   "cell_type": "code",
   "execution_count": 23,
   "id": "ca613ae7-1801-49f6-a99a-9d6d41e53d15",
   "metadata": {},
   "outputs": [],
   "source": [
    "def convert_to_pig_latin(sentence):\n",
    "    \"\"\" Convert an input sentence into the coded language called pig-Latin.\"\"\"\n",
    "    pig_latin_sentence = \"\"\n",
    "    word_list = sentence.split(' ')\n",
    "    for word in word_list:\n",
    "        if (word[0].lower() in ('a', 'e', 'i', 'o', 'u')):\n",
    "            pig_latin_sentence += word+'ay '\n",
    "        else:\n",
    "            pig_latin_sentence += word[1:len(word)]+word[0]+'ay '\n",
    "    return pig_latin_sentence[:-1]"
   ]
  },
  {
   "cell_type": "markdown",
   "id": "326bbcbc-bc21-4a7a-95c0-9652462f1d18",
   "metadata": {},
   "source": [
    "Let's try out this function!"
   ]
  },
  {
   "cell_type": "code",
   "execution_count": 24,
   "id": "bd2159af-42a4-4712-88f4-5f61a466be45",
   "metadata": {},
   "outputs": [
    {
     "data": {
      "text/plain": [
       "'umpjay'"
      ]
     },
     "execution_count": 24,
     "metadata": {},
     "output_type": "execute_result"
    }
   ],
   "source": [
    "convert_to_pig_latin(\"jump\")"
   ]
  },
  {
   "cell_type": "code",
   "execution_count": 25,
   "id": "fed9bcc3-1297-4b86-b21e-2c2aea37f76e",
   "metadata": {},
   "outputs": [
    {
     "data": {
      "text/plain": [
       "'hetay'"
      ]
     },
     "execution_count": 25,
     "metadata": {},
     "output_type": "execute_result"
    }
   ],
   "source": [
    "convert_to_pig_latin(\"the\")"
   ]
  },
  {
   "cell_type": "code",
   "execution_count": 26,
   "id": "455a9158-f9fa-4f99-b068-de83419bd8b4",
   "metadata": {
    "tags": []
   },
   "outputs": [
    {
     "data": {
      "text/plain": [
       "'omputercay'"
      ]
     },
     "execution_count": 26,
     "metadata": {},
     "output_type": "execute_result"
    }
   ],
   "source": [
    "convert_to_pig_latin(\"computer\")"
   ]
  },
  {
   "cell_type": "code",
   "execution_count": 27,
   "id": "3ffb1092-65c7-4a8c-88a1-40907d6c8c56",
   "metadata": {},
   "outputs": [
    {
     "data": {
      "text/plain": [
       "'otay ebay oray otnay otay ebay hattay isay hetay uestionqay'"
      ]
     },
     "execution_count": 27,
     "metadata": {},
     "output_type": "execute_result"
    }
   ],
   "source": [
    "convert_to_pig_latin(\"to be or not to be that is the question\")"
   ]
  },
  {
   "cell_type": "markdown",
   "id": "0081739a-7cdd-4716-a612-915bfd9b36ef",
   "metadata": {},
   "source": [
    "It seems to work!"
   ]
  },
  {
   "cell_type": "markdown",
   "id": "4850094a-8fca-4464-a917-3d020f12cf71",
   "metadata": {},
   "source": [
    "# 8.8 Converting integers to emojis"
   ]
  },
  {
   "cell_type": "markdown",
   "id": "8bf2f503-ff36-45ba-af9f-832cd1cad55f",
   "metadata": {},
   "source": [
    "We are asked to use the `c` presentation type to display 10 emojis beginning with the smiley face, which has the value `0x1F600`."
   ]
  },
  {
   "cell_type": "markdown",
   "id": "74e3c793-31a8-4052-92df-7c5b6df25a2f",
   "metadata": {},
   "source": [
    "We create a `for` loop that loops over the digits `0` until `9` (inclusive). For each `digit`, we add this `digit` to the end of the unicode `'0x1F60'`, creating the unicodes `'0x1F600'` until `'0x1F609'`. We then use the function `eval` to store the integer version of the previously created string into the variable `unicode`. Finally, we use the `c` presentation type to format the integer character code as the corresponding emoji."
   ]
  },
  {
   "cell_type": "code",
   "execution_count": 28,
   "id": "ab46d6d8-3575-4a35-bf36-b24b35468cff",
   "metadata": {},
   "outputs": [
    {
     "name": "stdout",
     "output_type": "stream",
     "text": [
      "😀\n",
      "😁\n",
      "😂\n",
      "😃\n",
      "😄\n",
      "😅\n",
      "😆\n",
      "😇\n",
      "😈\n",
      "😉\n"
     ]
    }
   ],
   "source": [
    "for digit in range(0, 10):\n",
    "        unicode = eval('0x1F60'+str(digit))\n",
    "        print(f'{unicode:c}')   "
   ]
  },
  {
   "cell_type": "markdown",
   "id": "fb9c3599-bf25-48a3-88fe-c5bc301b43da",
   "metadata": {},
   "source": [
    "We could also use the decimal representation of the hexadecimals mentioned above. A simple converting tool (https://www.rapidtables.com/convert/number/hex-to-decimal.html) can help us with that. We insert `'0x1F600'` and `'0x1F609'`, and obtain `128512` and `128522`. We convert these `decimal`s back to a hexadecimal by means of the `hex` function, and use the same steps as above afterwards."
   ]
  },
  {
   "cell_type": "code",
   "execution_count": 29,
   "id": "b5a211bf-4559-4ec9-85de-b6944b0d9d1f",
   "metadata": {},
   "outputs": [
    {
     "name": "stdout",
     "output_type": "stream",
     "text": [
      "😀\n",
      "😁\n",
      "😂\n",
      "😃\n",
      "😄\n",
      "😅\n",
      "😆\n",
      "😇\n",
      "😈\n",
      "😉\n"
     ]
    }
   ],
   "source": [
    "for decimal in range(128512, 128522):\n",
    "        unicode = eval(hex(decimal))\n",
    "        print(f'{unicode:c}')   "
   ]
  },
  {
   "cell_type": "markdown",
   "id": "1f77487f-7356-4139-8ad7-bce83afb715d",
   "metadata": {},
   "source": [
    "Note that it is easier to loop over all the different emojis since we don't have to take into account the changing of other digits or letters in the hexadecimal representations of the decimals. Let us try out what other emojis we can create by making the range larger!"
   ]
  },
  {
   "cell_type": "code",
   "execution_count": 30,
   "id": "28ade01d-2011-45bf-9cdd-a5e7a8fdfdc5",
   "metadata": {},
   "outputs": [
    {
     "name": "stdout",
     "output_type": "stream",
     "text": [
      "😀\n",
      "😁\n",
      "😂\n",
      "😃\n",
      "😄\n",
      "😅\n",
      "😆\n",
      "😇\n",
      "😈\n",
      "😉\n",
      "😊\n",
      "😋\n",
      "😌\n",
      "😍\n",
      "😎\n",
      "😏\n",
      "😐\n",
      "😑\n",
      "😒\n",
      "😓\n",
      "😔\n",
      "😕\n",
      "😖\n",
      "😗\n",
      "😘\n",
      "😙\n",
      "😚\n",
      "😛\n",
      "😜\n",
      "😝\n",
      "😞\n",
      "😟\n",
      "😠\n",
      "😡\n",
      "😢\n",
      "😣\n",
      "😤\n",
      "😥\n",
      "😦\n",
      "😧\n",
      "😨\n",
      "😩\n",
      "😪\n",
      "😫\n",
      "😬\n",
      "😭\n",
      "😮\n",
      "😯\n",
      "😰\n",
      "😱\n",
      "😲\n",
      "😳\n",
      "😴\n",
      "😵\n",
      "😶\n",
      "😷\n",
      "😸\n",
      "😹\n",
      "😺\n",
      "😻\n",
      "😼\n",
      "😽\n",
      "😾\n",
      "😿\n",
      "🙀\n",
      "🙁\n",
      "🙂\n",
      "🙃\n",
      "🙄\n",
      "🙅\n",
      "🙆\n",
      "🙇\n",
      "🙈\n",
      "🙉\n",
      "🙊\n",
      "🙋\n",
      "🙌\n",
      "🙍\n",
      "🙎\n",
      "🙏\n",
      "🙐\n",
      "🙑\n",
      "🙒\n",
      "🙓\n",
      "🙔\n",
      "🙕\n",
      "🙖\n",
      "🙗\n",
      "🙘\n",
      "🙙\n",
      "🙚\n",
      "🙛\n",
      "🙜\n",
      "🙝\n",
      "🙞\n",
      "🙟\n",
      "🙠\n",
      "🙡\n",
      "🙢\n",
      "🙣\n",
      "🙤\n",
      "🙥\n",
      "🙦\n",
      "🙧\n",
      "🙨\n",
      "🙩\n",
      "🙪\n",
      "🙫\n",
      "🙬\n",
      "🙭\n",
      "🙮\n",
      "🙯\n",
      "🙰\n",
      "🙱\n",
      "🙲\n",
      "🙳\n",
      "🙴\n",
      "🙵\n",
      "🙶\n",
      "🙷\n",
      "🙸\n",
      "🙹\n",
      "🙺\n",
      "🙻\n",
      "🙼\n",
      "🙽\n",
      "🙾\n",
      "🙿\n",
      "🚀\n",
      "🚁\n",
      "🚂\n",
      "🚃\n",
      "🚄\n",
      "🚅\n",
      "🚆\n",
      "🚇\n",
      "🚈\n",
      "🚉\n",
      "🚊\n",
      "🚋\n",
      "🚌\n",
      "🚍\n",
      "🚎\n",
      "🚏\n",
      "🚐\n",
      "🚑\n",
      "🚒\n",
      "🚓\n",
      "🚔\n",
      "🚕\n",
      "🚖\n",
      "🚗\n",
      "🚘\n",
      "🚙\n",
      "🚚\n",
      "🚛\n",
      "🚜\n",
      "🚝\n",
      "🚞\n",
      "🚟\n",
      "🚠\n",
      "🚡\n",
      "🚢\n",
      "🚣\n",
      "🚤\n",
      "🚥\n",
      "🚦\n",
      "🚧\n",
      "🚨\n",
      "🚩\n",
      "🚪\n",
      "🚫\n",
      "🚬\n",
      "🚭\n",
      "🚮\n",
      "🚯\n",
      "🚰\n",
      "🚱\n",
      "🚲\n",
      "🚳\n",
      "🚴\n",
      "🚵\n",
      "🚶\n",
      "🚷\n",
      "🚸\n",
      "🚹\n",
      "🚺\n",
      "🚻\n",
      "🚼\n",
      "🚽\n",
      "🚾\n",
      "🚿\n",
      "🛀\n",
      "🛁\n",
      "🛂\n",
      "🛃\n",
      "🛄\n",
      "🛅\n",
      "🛆\n",
      "🛇\n",
      "🛈\n",
      "🛉\n",
      "🛊\n",
      "🛋\n",
      "🛌\n",
      "🛍\n",
      "🛎\n",
      "🛏\n",
      "🛐\n",
      "🛑\n",
      "🛒\n",
      "🛓\n",
      "🛔\n",
      "🛕\n",
      "🛖\n",
      "🛗\n",
      "🛘\n",
      "🛙\n",
      "🛚\n",
      "🛛\n",
      "🛜\n",
      "🛝\n",
      "🛞\n",
      "🛟\n",
      "🛠\n",
      "🛡\n",
      "🛢\n",
      "🛣\n",
      "🛤\n",
      "🛥\n",
      "🛦\n",
      "🛧\n",
      "🛨\n",
      "🛩\n",
      "🛪\n",
      "🛫\n",
      "🛬\n",
      "🛭\n",
      "🛮\n",
      "🛯\n",
      "🛰\n",
      "🛱\n",
      "🛲\n",
      "🛳\n",
      "🛴\n",
      "🛵\n",
      "🛶\n",
      "🛷\n",
      "🛸\n",
      "🛹\n",
      "🛺\n",
      "🛻\n",
      "🛼\n",
      "🛽\n",
      "🛾\n",
      "🛿\n",
      "🜀\n",
      "🜁\n",
      "🜂\n",
      "🜃\n",
      "🜄\n",
      "🜅\n",
      "🜆\n",
      "🜇\n",
      "🜈\n",
      "🜉\n",
      "🜊\n",
      "🜋\n",
      "🜌\n",
      "🜍\n",
      "🜎\n",
      "🜏\n",
      "🜐\n",
      "🜑\n",
      "🜒\n",
      "🜓\n",
      "🜔\n",
      "🜕\n",
      "🜖\n",
      "🜗\n",
      "🜘\n",
      "🜙\n",
      "🜚\n",
      "🜛\n",
      "🜜\n",
      "🜝\n",
      "🜞\n",
      "🜟\n",
      "🜠\n",
      "🜡\n",
      "🜢\n",
      "🜣\n",
      "🜤\n",
      "🜥\n",
      "🜦\n",
      "🜧\n",
      "🜨\n",
      "🜩\n",
      "🜪\n",
      "🜫\n",
      "🜬\n",
      "🜭\n",
      "🜮\n",
      "🜯\n",
      "🜰\n",
      "🜱\n",
      "🜲\n",
      "🜳\n",
      "🜴\n",
      "🜵\n",
      "🜶\n",
      "🜷\n",
      "🜸\n",
      "🜹\n",
      "🜺\n",
      "🜻\n",
      "🜼\n",
      "🜽\n",
      "🜾\n",
      "🜿\n",
      "🝀\n",
      "🝁\n",
      "🝂\n",
      "🝃\n",
      "🝄\n",
      "🝅\n",
      "🝆\n",
      "🝇\n",
      "🝈\n",
      "🝉\n",
      "🝊\n",
      "🝋\n",
      "🝌\n",
      "🝍\n",
      "🝎\n",
      "🝏\n",
      "🝐\n",
      "🝑\n",
      "🝒\n",
      "🝓\n",
      "🝔\n",
      "🝕\n",
      "🝖\n",
      "🝗\n",
      "🝘\n",
      "🝙\n",
      "🝚\n",
      "🝛\n",
      "🝜\n",
      "🝝\n",
      "🝞\n",
      "🝟\n",
      "🝠\n",
      "🝡\n",
      "🝢\n",
      "🝣\n",
      "🝤\n",
      "🝥\n",
      "🝦\n",
      "🝧\n",
      "🝨\n",
      "🝩\n",
      "🝪\n",
      "🝫\n",
      "🝬\n",
      "🝭\n",
      "🝮\n",
      "🝯\n",
      "🝰\n",
      "🝱\n",
      "🝲\n",
      "🝳\n",
      "🝴\n",
      "🝵\n",
      "🝶\n",
      "🝷\n",
      "🝸\n",
      "🝹\n",
      "🝺\n",
      "🝻\n",
      "🝼\n",
      "🝽\n",
      "🝾\n",
      "🝿\n",
      "🞀\n",
      "🞁\n",
      "🞂\n",
      "🞃\n",
      "🞄\n",
      "🞅\n",
      "🞆\n",
      "🞇\n",
      "🞈\n",
      "🞉\n",
      "🞊\n",
      "🞋\n",
      "🞌\n",
      "🞍\n",
      "🞎\n",
      "🞏\n",
      "🞐\n",
      "🞑\n",
      "🞒\n",
      "🞓\n",
      "🞔\n",
      "🞕\n",
      "🞖\n",
      "🞗\n",
      "🞘\n",
      "🞙\n",
      "🞚\n",
      "🞛\n",
      "🞜\n",
      "🞝\n",
      "🞞\n",
      "🞟\n",
      "🞠\n",
      "🞡\n",
      "🞢\n",
      "🞣\n",
      "🞤\n",
      "🞥\n",
      "🞦\n",
      "🞧\n",
      "🞨\n",
      "🞩\n",
      "🞪\n",
      "🞫\n",
      "🞬\n",
      "🞭\n",
      "🞮\n",
      "🞯\n",
      "🞰\n",
      "🞱\n",
      "🞲\n",
      "🞳\n",
      "🞴\n",
      "🞵\n",
      "🞶\n",
      "🞷\n",
      "🞸\n",
      "🞹\n",
      "🞺\n",
      "🞻\n",
      "🞼\n",
      "🞽\n",
      "🞾\n",
      "🞿\n",
      "🟀\n",
      "🟁\n",
      "🟂\n",
      "🟃\n",
      "🟄\n",
      "🟅\n",
      "🟆\n",
      "🟇\n",
      "🟈\n",
      "🟉\n",
      "🟊\n",
      "🟋\n",
      "🟌\n",
      "🟍\n",
      "🟎\n",
      "🟏\n",
      "🟐\n",
      "🟑\n",
      "🟒\n",
      "🟓\n",
      "🟔\n",
      "🟕\n",
      "🟖\n",
      "🟗\n",
      "🟘\n",
      "🟙\n",
      "🟚\n",
      "🟛\n",
      "🟜\n",
      "🟝\n",
      "🟞\n",
      "🟟\n",
      "🟠\n",
      "🟡\n",
      "🟢\n",
      "🟣\n",
      "🟤\n",
      "🟥\n",
      "🟦\n",
      "🟧\n",
      "🟨\n",
      "🟩\n",
      "🟪\n",
      "🟫\n",
      "🟬\n",
      "🟭\n",
      "🟮\n",
      "🟯\n",
      "🟰\n",
      "🟱\n",
      "🟲\n",
      "🟳\n",
      "🟴\n",
      "🟵\n",
      "🟶\n",
      "🟷\n",
      "🟸\n",
      "🟹\n",
      "🟺\n",
      "🟻\n",
      "🟼\n",
      "🟽\n",
      "🟾\n",
      "🟿\n",
      "🠀\n",
      "🠁\n",
      "🠂\n",
      "🠃\n",
      "🠄\n",
      "🠅\n",
      "🠆\n",
      "🠇\n",
      "🠈\n",
      "🠉\n",
      "🠊\n",
      "🠋\n",
      "🠌\n",
      "🠍\n",
      "🠎\n",
      "🠏\n",
      "🠐\n",
      "🠑\n",
      "🠒\n",
      "🠓\n",
      "🠔\n",
      "🠕\n",
      "🠖\n",
      "🠗\n",
      "🠘\n",
      "🠙\n",
      "🠚\n",
      "🠛\n",
      "🠜\n",
      "🠝\n",
      "🠞\n",
      "🠟\n",
      "🠠\n",
      "🠡\n",
      "🠢\n",
      "🠣\n",
      "🠤\n",
      "🠥\n",
      "🠦\n",
      "🠧\n",
      "🠨\n",
      "🠩\n",
      "🠪\n",
      "🠫\n",
      "🠬\n",
      "🠭\n",
      "🠮\n",
      "🠯\n",
      "🠰\n",
      "🠱\n",
      "🠲\n",
      "🠳\n",
      "🠴\n",
      "🠵\n",
      "🠶\n",
      "🠷\n",
      "🠸\n",
      "🠹\n",
      "🠺\n",
      "🠻\n",
      "🠼\n",
      "🠽\n",
      "🠾\n",
      "🠿\n",
      "🡀\n",
      "🡁\n",
      "🡂\n",
      "🡃\n",
      "🡄\n",
      "🡅\n",
      "🡆\n",
      "🡇\n",
      "🡈\n",
      "🡉\n",
      "🡊\n",
      "🡋\n",
      "🡌\n",
      "🡍\n",
      "🡎\n",
      "🡏\n",
      "🡐\n",
      "🡑\n",
      "🡒\n",
      "🡓\n",
      "🡔\n",
      "🡕\n",
      "🡖\n",
      "🡗\n",
      "🡘\n",
      "🡙\n",
      "🡚\n",
      "🡛\n",
      "🡜\n",
      "🡝\n",
      "🡞\n",
      "🡟\n",
      "🡠\n",
      "🡡\n",
      "🡢\n",
      "🡣\n",
      "🡤\n",
      "🡥\n",
      "🡦\n",
      "🡧\n",
      "🡨\n",
      "🡩\n",
      "🡪\n",
      "🡫\n",
      "🡬\n",
      "🡭\n",
      "🡮\n",
      "🡯\n",
      "🡰\n",
      "🡱\n",
      "🡲\n",
      "🡳\n",
      "🡴\n",
      "🡵\n",
      "🡶\n",
      "🡷\n",
      "🡸\n",
      "🡹\n",
      "🡺\n",
      "🡻\n",
      "🡼\n",
      "🡽\n",
      "🡾\n",
      "🡿\n",
      "🢀\n",
      "🢁\n",
      "🢂\n",
      "🢃\n",
      "🢄\n",
      "🢅\n",
      "🢆\n",
      "🢇\n",
      "🢈\n",
      "🢉\n",
      "🢊\n",
      "🢋\n",
      "🢌\n",
      "🢍\n",
      "🢎\n",
      "🢏\n",
      "🢐\n",
      "🢑\n",
      "🢒\n",
      "🢓\n",
      "🢔\n",
      "🢕\n",
      "🢖\n",
      "🢗\n",
      "🢘\n",
      "🢙\n",
      "🢚\n",
      "🢛\n",
      "🢜\n",
      "🢝\n",
      "🢞\n",
      "🢟\n",
      "🢠\n",
      "🢡\n",
      "🢢\n",
      "🢣\n",
      "🢤\n",
      "🢥\n",
      "🢦\n",
      "🢧\n",
      "🢨\n",
      "🢩\n",
      "🢪\n",
      "🢫\n",
      "🢬\n",
      "🢭\n",
      "🢮\n",
      "🢯\n",
      "🢰\n",
      "🢱\n",
      "🢲\n",
      "🢳\n",
      "🢴\n",
      "🢵\n",
      "🢶\n",
      "🢷\n",
      "🢸\n",
      "🢹\n",
      "🢺\n",
      "🢻\n",
      "🢼\n",
      "🢽\n",
      "🢾\n",
      "🢿\n",
      "🣀\n",
      "🣁\n",
      "🣂\n",
      "🣃\n",
      "🣄\n",
      "🣅\n",
      "🣆\n",
      "🣇\n",
      "🣈\n",
      "🣉\n",
      "🣊\n",
      "🣋\n",
      "🣌\n",
      "🣍\n",
      "🣎\n",
      "🣏\n",
      "🣐\n",
      "🣑\n",
      "🣒\n",
      "🣓\n",
      "🣔\n",
      "🣕\n",
      "🣖\n",
      "🣗\n",
      "🣘\n",
      "🣙\n",
      "🣚\n",
      "🣛\n",
      "🣜\n",
      "🣝\n",
      "🣞\n",
      "🣟\n",
      "🣠\n",
      "🣡\n",
      "🣢\n",
      "🣣\n",
      "🣤\n",
      "🣥\n",
      "🣦\n",
      "🣧\n",
      "🣨\n",
      "🣩\n",
      "🣪\n",
      "🣫\n",
      "🣬\n",
      "🣭\n",
      "🣮\n",
      "🣯\n",
      "🣰\n",
      "🣱\n",
      "🣲\n",
      "🣳\n",
      "🣴\n",
      "🣵\n",
      "🣶\n",
      "🣷\n",
      "🣸\n",
      "🣹\n",
      "🣺\n",
      "🣻\n",
      "🣼\n",
      "🣽\n",
      "🣾\n",
      "🣿\n",
      "🤀\n",
      "🤁\n",
      "🤂\n",
      "🤃\n",
      "🤄\n",
      "🤅\n",
      "🤆\n",
      "🤇\n",
      "🤈\n",
      "🤉\n",
      "🤊\n",
      "🤋\n",
      "🤌\n",
      "🤍\n",
      "🤎\n",
      "🤏\n",
      "🤐\n",
      "🤑\n",
      "🤒\n",
      "🤓\n",
      "🤔\n",
      "🤕\n",
      "🤖\n",
      "🤗\n",
      "🤘\n",
      "🤙\n",
      "🤚\n",
      "🤛\n",
      "🤜\n",
      "🤝\n",
      "🤞\n",
      "🤟\n",
      "🤠\n",
      "🤡\n",
      "🤢\n",
      "🤣\n",
      "🤤\n",
      "🤥\n",
      "🤦\n",
      "🤧\n",
      "🤨\n",
      "🤩\n",
      "🤪\n",
      "🤫\n",
      "🤬\n",
      "🤭\n",
      "🤮\n",
      "🤯\n",
      "🤰\n",
      "🤱\n",
      "🤲\n",
      "🤳\n",
      "🤴\n",
      "🤵\n",
      "🤶\n",
      "🤷\n",
      "🤸\n",
      "🤹\n",
      "🤺\n",
      "🤻\n",
      "🤼\n",
      "🤽\n",
      "🤾\n",
      "🤿\n",
      "🥀\n",
      "🥁\n",
      "🥂\n",
      "🥃\n",
      "🥄\n",
      "🥅\n",
      "🥆\n",
      "🥇\n",
      "🥈\n",
      "🥉\n",
      "🥊\n",
      "🥋\n",
      "🥌\n",
      "🥍\n",
      "🥎\n",
      "🥏\n",
      "🥐\n",
      "🥑\n",
      "🥒\n",
      "🥓\n",
      "🥔\n",
      "🥕\n",
      "🥖\n",
      "🥗\n",
      "🥘\n",
      "🥙\n",
      "🥚\n",
      "🥛\n",
      "🥜\n",
      "🥝\n",
      "🥞\n",
      "🥟\n",
      "🥠\n",
      "🥡\n",
      "🥢\n",
      "🥣\n",
      "🥤\n",
      "🥥\n",
      "🥦\n",
      "🥧\n",
      "🥨\n",
      "🥩\n",
      "🥪\n",
      "🥫\n",
      "🥬\n",
      "🥭\n",
      "🥮\n",
      "🥯\n",
      "🥰\n",
      "🥱\n",
      "🥲\n",
      "🥳\n",
      "🥴\n",
      "🥵\n",
      "🥶\n",
      "🥷\n",
      "🥸\n",
      "🥹\n",
      "🥺\n",
      "🥻\n",
      "🥼\n",
      "🥽\n",
      "🥾\n",
      "🥿\n",
      "🦀\n",
      "🦁\n",
      "🦂\n",
      "🦃\n",
      "🦄\n",
      "🦅\n",
      "🦆\n",
      "🦇\n",
      "🦈\n",
      "🦉\n",
      "🦊\n",
      "🦋\n",
      "🦌\n",
      "🦍\n",
      "🦎\n",
      "🦏\n",
      "🦐\n",
      "🦑\n",
      "🦒\n",
      "🦓\n",
      "🦔\n",
      "🦕\n",
      "🦖\n",
      "🦗\n",
      "🦘\n",
      "🦙\n",
      "🦚\n",
      "🦛\n",
      "🦜\n",
      "🦝\n",
      "🦞\n",
      "🦟\n",
      "🦠\n",
      "🦡\n",
      "🦢\n",
      "🦣\n",
      "🦤\n",
      "🦥\n",
      "🦦\n",
      "🦧\n",
      "🦨\n",
      "🦩\n",
      "🦪\n",
      "🦫\n",
      "🦬\n",
      "🦭\n",
      "🦮\n",
      "🦯\n",
      "🦰\n",
      "🦱\n",
      "🦲\n",
      "🦳\n",
      "🦴\n",
      "🦵\n",
      "🦶\n",
      "🦷\n",
      "🦸\n",
      "🦹\n",
      "🦺\n",
      "🦻\n",
      "🦼\n",
      "🦽\n",
      "🦾\n",
      "🦿\n",
      "🧀\n",
      "🧁\n",
      "🧂\n",
      "🧃\n",
      "🧄\n",
      "🧅\n",
      "🧆\n",
      "🧇\n",
      "🧈\n",
      "🧉\n",
      "🧊\n",
      "🧋\n",
      "🧌\n",
      "🧍\n",
      "🧎\n",
      "🧏\n",
      "🧐\n",
      "🧑\n",
      "🧒\n",
      "🧓\n",
      "🧔\n",
      "🧕\n",
      "🧖\n",
      "🧗\n",
      "🧘\n",
      "🧙\n",
      "🧚\n",
      "🧛\n",
      "🧜\n",
      "🧝\n",
      "🧞\n",
      "🧟\n",
      "🧠\n",
      "🧡\n",
      "🧢\n",
      "🧣\n",
      "🧤\n",
      "🧥\n",
      "🧦\n",
      "🧧\n",
      "🧨\n",
      "🧩\n",
      "🧪\n",
      "🧫\n",
      "🧬\n",
      "🧭\n",
      "🧮\n",
      "🧯\n",
      "🧰\n",
      "🧱\n",
      "🧲\n",
      "🧳\n",
      "🧴\n",
      "🧵\n",
      "🧶\n",
      "🧷\n",
      "🧸\n",
      "🧹\n",
      "🧺\n",
      "🧻\n",
      "🧼\n",
      "🧽\n",
      "🧾\n",
      "🧿\n"
     ]
    }
   ],
   "source": [
    "for decimal in range(128512, 129536):\n",
    "        unicode = eval(hex(decimal))\n",
    "        print(f'{unicode:c}')   "
   ]
  },
  {
   "cell_type": "markdown",
   "id": "41e208fc-50ff-4c2b-a784-fd035122e4ea",
   "metadata": {},
   "source": [
    "We can see some emojis, but not all! Also, the flags seem to be missing from this list. After doing some research, it seems like flags are made up of two different unicodes. I have tried a lot but I cannot seem to figure out how to combine two unicodes as one output emoji."
   ]
  },
  {
   "cell_type": "markdown",
   "id": "2e8b98c8-2fc9-448d-96fb-3f796dbf2c00",
   "metadata": {},
   "source": [
    "# 8.13 Regular expressions: Condense spaces to a single space"
   ]
  },
  {
   "cell_type": "markdown",
   "id": "620f3bbc-b124-428d-a293-eec9985bc3ee",
   "metadata": {},
   "source": [
    "We are asked to check whether a sentence contains more than one space between words. If this is the case, we have to remove these extra spaces and display the result."
   ]
  },
  {
   "cell_type": "markdown",
   "id": "adc06f87-d5ff-42de-8c03-2c236ebbe737",
   "metadata": {},
   "source": [
    "We can write a function `remove_additional_spaces` that takes a `sentence` as an input, and checks whether there are two subsequent spaces present in the `sentence` by means of a `while` loop. If this is the case, the two subsequent spaces are reduced to only one space by means of replacing the two spaces by one (`replace('  ', ' ')`). By the principles of recursion, we are assured that only single spaces will be left after the `while` loop has terminated. Then, in case there is still a space at the beginning or end of the `sentence`, we check for it through an `if` statement, and remove this extra space by shortening the `sentence` by one character (the extra space at either the beginning and/or the end)."
   ]
  },
  {
   "cell_type": "code",
   "execution_count": 31,
   "id": "f6ceb7eb-f344-4587-ae03-7e5d438fd61f",
   "metadata": {},
   "outputs": [],
   "source": [
    "def remove_additional_spaces(sentence):\n",
    "    \"\"\"Remove additional spaces in the input sentence.\"\"\"\n",
    "    while '  ' in sentence:\n",
    "        sentence = sentence.replace('  ', ' ')\n",
    "    if sentence[0] == ' ':\n",
    "        sentence = sentence[1:len(sentence)]\n",
    "    if sentence[len(sentence)-1] == ' ':\n",
    "        sentence = sentence[0:len(sentence)-1]\n",
    "    return sentence"
   ]
  },
  {
   "cell_type": "markdown",
   "id": "df798a84-af01-405b-a35e-3e019cb571c2",
   "metadata": {},
   "source": [
    "Let's try it out!"
   ]
  },
  {
   "cell_type": "code",
   "execution_count": 32,
   "id": "f33daea7-4363-4212-a71f-5fe11f0e1d32",
   "metadata": {},
   "outputs": [
    {
     "data": {
      "text/plain": [
       "'to be or not to be that is the question'"
      ]
     },
     "execution_count": 32,
     "metadata": {},
     "output_type": "execute_result"
    }
   ],
   "source": [
    "remove_additional_spaces('to  be or  not    to be that  is the question')"
   ]
  },
  {
   "cell_type": "code",
   "execution_count": 33,
   "id": "4be85311-7826-40f1-bb9a-2382c4625c3e",
   "metadata": {},
   "outputs": [
    {
     "data": {
      "text/plain": [
       "'to be or not to be'"
      ]
     },
     "execution_count": 33,
     "metadata": {},
     "output_type": "execute_result"
    }
   ],
   "source": [
    "remove_additional_spaces('    to     be or not to be     ')"
   ]
  },
  {
   "cell_type": "code",
   "execution_count": 34,
   "id": "a878416d-4cd7-4834-9bd2-dc6aa1b27c64",
   "metadata": {},
   "outputs": [
    {
     "data": {
      "text/plain": [
       "'Hello World'"
      ]
     },
     "execution_count": 34,
     "metadata": {},
     "output_type": "execute_result"
    }
   ],
   "source": [
    "remove_additional_spaces('Hello World')"
   ]
  },
  {
   "cell_type": "markdown",
   "id": "6898fd36-9f3e-4f1a-b3ac-f02c50bcb887",
   "metadata": {},
   "source": [
    "We see that all the unnecessary spaces have been removed!"
   ]
  }
 ],
 "metadata": {
  "kernelspec": {
   "display_name": "Python 3 (ipykernel)",
   "language": "python",
   "name": "python3"
  },
  "language_info": {
   "codemirror_mode": {
    "name": "ipython",
    "version": 3
   },
   "file_extension": ".py",
   "mimetype": "text/x-python",
   "name": "python",
   "nbconvert_exporter": "python",
   "pygments_lexer": "ipython3",
   "version": "3.8.11"
  }
 },
 "nbformat": 4,
 "nbformat_minor": 5
}
